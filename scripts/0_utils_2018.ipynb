{
 "cells": [
  {
   "cell_type": "markdown",
   "metadata": {},
   "source": [
    "### Jupyter Notebook Cheat sheet\n",
    "\n",
    "- https://medium.com/ibm-data-science-experience/markdown-for-jupyter-notebooks-cheatsheet-386c05aeebed"
   ]
  },
  {
   "cell_type": "markdown",
   "metadata": {},
   "source": [
    "### Time and Date: converting back and forth"
   ]
  },
  {
   "cell_type": "code",
   "execution_count": 13,
   "metadata": {},
   "outputs": [],
   "source": [
    "import datetime as dt\n",
    "# Seconds --> Time HH:MM:SS --> datetime\n",
    "times = [dt.datetime.combine(dt.date.today(), dt.time(0,0)) + dt.timedelta(seconds=5*x) for x in range(0, int(60*60*24/5))]\n",
    "# Datetime to String like mmss\n",
    "mmss = [t.strftime('%M:%S') for t in times]\n",
    "# Datetime to seconds\n",
    "seconds = [f\"{int((t - t.replace(hour=0, minute=0, second=0, microsecond=0)).total_seconds())}s\" for t in times]\n",
    "seconds_int = [int((t - t.replace(hour=0, minute=0, second=0, microsecond=0)).total_seconds()) for t in times]"
   ]
  },
  {
   "cell_type": "code",
   "execution_count": 25,
   "metadata": {},
   "outputs": [
    {
     "data": {
      "text/plain": [
       "'1:00:00'"
      ]
     },
     "execution_count": 25,
     "metadata": {},
     "output_type": "execute_result"
    }
   ],
   "source": [
    "# Seconds to timeformat HH:MM:SS\n",
    "str(dt.timedelta(seconds=3600))"
   ]
  },
  {
   "cell_type": "markdown",
   "metadata": {},
   "source": [
    "## Pandas"
   ]
  },
  {
   "cell_type": "code",
   "execution_count": 3,
   "metadata": {},
   "outputs": [],
   "source": [
    "import pandas as pd\n",
    "import datetime"
   ]
  },
  {
   "cell_type": "code",
   "execution_count": null,
   "metadata": {},
   "outputs": [],
   "source": [
    "## Reading dat.gz (compressed files)\n",
    "\n",
    "# Default\n",
    "df = pd.read_csv('filename.tar.gz', compression='gzip', header=5, sep=',', quotechar='\"')\n",
    "\n",
    "# Solution to: pandas.errors.ParserError: Error tokenizing data. C error: EOF inside string starting at line x\n",
    "dfx = pd.read_csv('DYCE_FX_FG_FXX_201706_new.dat.gz',compression='gzip',header=5,sep=',', quotechar=None,quoting=3)\n"
   ]
  },
  {
   "cell_type": "code",
   "execution_count": null,
   "metadata": {},
   "outputs": [],
   "source": [
    "# PANDAS: Group and aggregate data using custom functions (NOT RUN)\n",
    "\n",
    "f = {'tradesize':['sum'],'ordernetsize':['sum'],\n",
    "     'spot':lambda x: np.average(x,weights=self.data_withClusters.loc[x.index,\"tradesize\"]), # weighted average\n",
    "     'bmbinfirst':['first'],'bmbinlast':['last'],\n",
    "     # clustermethod:['max']} # WORKS...\n",
    "     'mostFreq':lambda x:x.value_counts().index[0]}\n",
    "\n",
    "df_aggregate = df.groupby(['ccy','trdate','timebincoarse']).agg(f).reset_index()\n",
    "collist = ['ccy','trdate','start5minbin','binturnover','binnetflow','binprice','bmbinfirst','bmbinlast',\n",
    "           'cluster_new']\n",
    "df_aggregate.columns = collist\n"
   ]
  },
  {
   "cell_type": "code",
   "execution_count": null,
   "metadata": {},
   "outputs": [],
   "source": [
    "# Rename columns using lambda: for some mechanic change\n",
    "df2go = df2go.rename(columns=lambda x: x[:x.find('[')]) # remove the last letters"
   ]
  },
  {
   "cell_type": "code",
   "execution_count": null,
   "metadata": {},
   "outputs": [],
   "source": [
    "# Create Stacked Bins by setting a temporary index\n",
    "\n",
    "# Stack bins to columns\n",
    "myCols = ['itgID','ticker','sign','tradeDate','mddv','histVola']\n",
    "df2go = df2go.set_index(myCols)\n",
    "df2go.columns.name = 'bin'\n",
    "df2go = df2go.stack() # become a series\n",
    "df2go.name = 'ExPriceForBin'\n",
    "df2go = df2go.reset_index() # will convert back to the original myCols with stacked bins"
   ]
  },
  {
   "cell_type": "code",
   "execution_count": 25,
   "metadata": {},
   "outputs": [
    {
     "name": "stdout",
     "output_type": "stream",
     "text": [
      "Append:\n"
     ]
    },
    {
     "data": {
      "text/html": [
       "<div>\n",
       "<style scoped>\n",
       "    .dataframe tbody tr th:only-of-type {\n",
       "        vertical-align: middle;\n",
       "    }\n",
       "\n",
       "    .dataframe tbody tr th {\n",
       "        vertical-align: top;\n",
       "    }\n",
       "\n",
       "    .dataframe thead th {\n",
       "        text-align: right;\n",
       "    }\n",
       "</style>\n",
       "<table border=\"1\" class=\"dataframe\">\n",
       "  <thead>\n",
       "    <tr style=\"text-align: right;\">\n",
       "      <th></th>\n",
       "      <th>A</th>\n",
       "      <th>B</th>\n",
       "    </tr>\n",
       "  </thead>\n",
       "  <tbody>\n",
       "    <tr>\n",
       "      <th>0</th>\n",
       "      <td>1</td>\n",
       "      <td>2</td>\n",
       "    </tr>\n",
       "    <tr>\n",
       "      <th>1</th>\n",
       "      <td>3</td>\n",
       "      <td>4</td>\n",
       "    </tr>\n",
       "    <tr>\n",
       "      <th>0</th>\n",
       "      <td>5</td>\n",
       "      <td>6</td>\n",
       "    </tr>\n",
       "    <tr>\n",
       "      <th>1</th>\n",
       "      <td>7</td>\n",
       "      <td>8</td>\n",
       "    </tr>\n",
       "  </tbody>\n",
       "</table>\n",
       "</div>"
      ],
      "text/plain": [
       "   A  B\n",
       "0  1  2\n",
       "1  3  4\n",
       "0  5  6\n",
       "1  7  8"
      ]
     },
     "metadata": {},
     "output_type": "display_data"
    },
    {
     "name": "stdout",
     "output_type": "stream",
     "text": [
      "Concat:\n"
     ]
    },
    {
     "data": {
      "text/html": [
       "<div>\n",
       "<style scoped>\n",
       "    .dataframe tbody tr th:only-of-type {\n",
       "        vertical-align: middle;\n",
       "    }\n",
       "\n",
       "    .dataframe tbody tr th {\n",
       "        vertical-align: top;\n",
       "    }\n",
       "\n",
       "    .dataframe thead th {\n",
       "        text-align: right;\n",
       "    }\n",
       "</style>\n",
       "<table border=\"1\" class=\"dataframe\">\n",
       "  <thead>\n",
       "    <tr style=\"text-align: right;\">\n",
       "      <th></th>\n",
       "      <th>A</th>\n",
       "      <th>B</th>\n",
       "    </tr>\n",
       "  </thead>\n",
       "  <tbody>\n",
       "    <tr>\n",
       "      <th>0</th>\n",
       "      <td>1</td>\n",
       "      <td>2</td>\n",
       "    </tr>\n",
       "    <tr>\n",
       "      <th>1</th>\n",
       "      <td>3</td>\n",
       "      <td>4</td>\n",
       "    </tr>\n",
       "    <tr>\n",
       "      <th>0</th>\n",
       "      <td>5</td>\n",
       "      <td>6</td>\n",
       "    </tr>\n",
       "    <tr>\n",
       "      <th>1</th>\n",
       "      <td>7</td>\n",
       "      <td>8</td>\n",
       "    </tr>\n",
       "  </tbody>\n",
       "</table>\n",
       "</div>"
      ],
      "text/plain": [
       "   A  B\n",
       "0  1  2\n",
       "1  3  4\n",
       "0  5  6\n",
       "1  7  8"
      ]
     },
     "metadata": {},
     "output_type": "display_data"
    },
    {
     "name": "stdout",
     "output_type": "stream",
     "text": [
      "Merge:\n",
      "Join:\n"
     ]
    },
    {
     "data": {
      "text/html": [
       "<div>\n",
       "<style scoped>\n",
       "    .dataframe tbody tr th:only-of-type {\n",
       "        vertical-align: middle;\n",
       "    }\n",
       "\n",
       "    .dataframe tbody tr th {\n",
       "        vertical-align: top;\n",
       "    }\n",
       "\n",
       "    .dataframe thead th {\n",
       "        text-align: right;\n",
       "    }\n",
       "</style>\n",
       "<table border=\"1\" class=\"dataframe\">\n",
       "  <thead>\n",
       "    <tr style=\"text-align: right;\">\n",
       "      <th></th>\n",
       "      <th>A_left</th>\n",
       "      <th>B_left</th>\n",
       "      <th>A_right</th>\n",
       "      <th>B_right</th>\n",
       "    </tr>\n",
       "  </thead>\n",
       "  <tbody>\n",
       "    <tr>\n",
       "      <th>0</th>\n",
       "      <td>1</td>\n",
       "      <td>2</td>\n",
       "      <td>5</td>\n",
       "      <td>6</td>\n",
       "    </tr>\n",
       "    <tr>\n",
       "      <th>1</th>\n",
       "      <td>3</td>\n",
       "      <td>4</td>\n",
       "      <td>7</td>\n",
       "      <td>8</td>\n",
       "    </tr>\n",
       "  </tbody>\n",
       "</table>\n",
       "</div>"
      ],
      "text/plain": [
       "   A_left  B_left  A_right  B_right\n",
       "0       1       2        5        6\n",
       "1       3       4        7        8"
      ]
     },
     "execution_count": 25,
     "metadata": {},
     "output_type": "execute_result"
    }
   ],
   "source": [
    "# Append: simplest way to keep stacking new df with same columns\n",
    "df1 = pd.DataFrame([[1, 2], [3, 4]], columns=list('AB'))\n",
    "df2 = pd.DataFrame([[5, 6], [7, 8]], columns=list('AB'))\n",
    "print('Append:')\n",
    "display(df1.append(df2))\n",
    "# Concatenate: put together (will use the index as key)\n",
    "print('Concat:')\n",
    "display(pd.concat([df1,df2],axis=0))\n",
    "# Merge: will merge on the key, choose left and right sides\n",
    "print('Merge:')\n",
    "pd.merge(df1,df2,on=['A'],how='outer') # default: how='inner'\n",
    "# Join: similar to merge but will use the index as the key\n",
    "print('Join:')\n",
    "df1.join(df2,lsuffix='_left',rsuffix='_right')"
   ]
  },
  {
   "cell_type": "code",
   "execution_count": 14,
   "metadata": {},
   "outputs": [
    {
     "name": "stdout",
     "output_type": "stream",
     "text": [
      "Solution 0: Time taken: 0.0009210109710693359\n",
      "20\n",
      "30\n",
      "30\n",
      "Solution 1: Time taken: 0.0039017200469970703\n",
      "20\n",
      "20\n",
      "30\n",
      "30\n",
      "Solution 2: Time taken: 0.0008029937744140625\n"
     ]
    }
   ],
   "source": [
    "import numpy as np\n",
    "import time as tt\n",
    "## Applying a function to multiple columns\n",
    "df = pd.DataFrame({\"A\": [10,20,30], \"B\": [20, 30, 10]})\n",
    "# 1) Simple operation\n",
    "tic = tt.time()\n",
    "df['new_column'] = np.multiply(df['A'], df['B'])\n",
    "print('Solution 0: Time taken:',tt.time()-tic)\n",
    "# 2) Defining a function and apply\n",
    "def fxy(x, y):\n",
    "    #print(np.max([x,y]))\n",
    "    return x * y\n",
    "tic = tt.time()\n",
    "df['new_column'] = df.apply(lambda x: fxy(x['A'], x['B']), axis=1)\n",
    "print('Solution 1: Time taken:',tt.time()-tic)\n",
    "# 3) Using vectorize (more efficient!)\n",
    "# for index, row in df.iterrows(): # Not efficient... bad for computations.\n",
    "tic = tt.time()\n",
    "df['new_column'] = np.vectorize(fxy)(df['A'], df['B'])\n",
    "print('Solution 2: Time taken:',tt.time()-tic)"
   ]
  },
  {
   "cell_type": "code",
   "execution_count": 16,
   "metadata": {},
   "outputs": [
    {
     "name": "stdout",
     "output_type": "stream",
     "text": [
      "       Date\n",
      "0  20140329\n",
      "1  20140330\n",
      "2  20140331\n"
     ]
    }
   ],
   "source": [
    "# Datetime: convert datetime objects to int. \n",
    "# - Even if they are originally in datetime, looks like has to convert use pd.to_datetime()\n",
    "\n",
    "import pandas as pd\n",
    "df = pd.DataFrame({\"Date\": [\"2014-03-29\", \"2014-03-30\", \"2014-03-31\"]})\n",
    "df[\"Date\"] = pd.to_datetime(df[\"Date\"]).dt.strftime(\"%Y%m%d\").astype('int')\n",
    "print( df )"
   ]
  },
  {
   "cell_type": "code",
   "execution_count": null,
   "metadata": {},
   "outputs": [],
   "source": [
    "# Convert data from String to datetime format\n",
    "df['t0'] = pd.to_datetime('20181202',format='%Y%m%d', errors='ignore') # works only for single instances.. not working for whole...\n",
    "# Convert to seconds from String (easier)\n",
    "df['t0'] = df.starttime.apply(lambda x: 3600*int(x.split(':')[0])+60*int(x.split(':')[1])+int(x.split(':')[2])).astype(str)+'s' \n"
   ]
  },
  {
   "cell_type": "code",
   "execution_count": null,
   "metadata": {},
   "outputs": [],
   "source": [
    "# Sort by\n",
    "\n",
    "df.sort_values(by=['col1', 'col2'])"
   ]
  },
  {
   "cell_type": "code",
   "execution_count": null,
   "metadata": {},
   "outputs": [],
   "source": [
    "# Discretize variables based on quantiles\n",
    "\n",
    "#out,bins = pd.qcut(condVar,q=nsplit,labels=False,retbins= True)\n",
    "out, bins = pd.qcut(condVar, q=nsplit, labels=False, retbins=True) # exclude zeros of Y (no execution...)\n",
    "bin_range = [[bins[i],bins[i+1]] for i in range(len(out.unique()))]\n",
    "    "
   ]
  },
  {
   "cell_type": "code",
   "execution_count": null,
   "metadata": {},
   "outputs": [],
   "source": [
    "## Count the unique items\n",
    "df2go['algoStrategy'].value_counts()\n"
   ]
  },
  {
   "cell_type": "code",
   "execution_count": 13,
   "metadata": {},
   "outputs": [
    {
     "data": {
      "text/html": [
       "<div>\n",
       "<style scoped>\n",
       "    .dataframe tbody tr th:only-of-type {\n",
       "        vertical-align: middle;\n",
       "    }\n",
       "\n",
       "    .dataframe tbody tr th {\n",
       "        vertical-align: top;\n",
       "    }\n",
       "\n",
       "    .dataframe thead th {\n",
       "        text-align: right;\n",
       "    }\n",
       "</style>\n",
       "<table border=\"1\" class=\"dataframe\">\n",
       "  <thead>\n",
       "    <tr style=\"text-align: right;\">\n",
       "      <th></th>\n",
       "      <th>token</th>\n",
       "      <th>ISO</th>\n",
       "      <th>date</th>\n",
       "      <th>ccy</th>\n",
       "      <th>starttime</th>\n",
       "      <th>endtime</th>\n",
       "      <th>startshare</th>\n",
       "      <th>endshare</th>\n",
       "    </tr>\n",
       "  </thead>\n",
       "  <tbody>\n",
       "    <tr>\n",
       "      <th>0</th>\n",
       "      <td>AUDUSD_20180111_68400s_68700s_1</td>\n",
       "      <td>FXX</td>\n",
       "      <td>20180111</td>\n",
       "      <td>AUD.USD</td>\n",
       "      <td>68400s</td>\n",
       "      <td>68700s</td>\n",
       "      <td>0</td>\n",
       "      <td>1</td>\n",
       "    </tr>\n",
       "    <tr>\n",
       "      <th>1</th>\n",
       "      <td>AUDUSD_20180111_68400s_68700s_1000</td>\n",
       "      <td>FXX</td>\n",
       "      <td>20180111</td>\n",
       "      <td>AUD.USD</td>\n",
       "      <td>68400s</td>\n",
       "      <td>68700s</td>\n",
       "      <td>0</td>\n",
       "      <td>1000</td>\n",
       "    </tr>\n",
       "    <tr>\n",
       "      <th>2</th>\n",
       "      <td>AUDUSD_20180111_68400s_75600s_1</td>\n",
       "      <td>FXX</td>\n",
       "      <td>20180111</td>\n",
       "      <td>AUD.USD</td>\n",
       "      <td>68400s</td>\n",
       "      <td>75600s</td>\n",
       "      <td>0</td>\n",
       "      <td>1</td>\n",
       "    </tr>\n",
       "    <tr>\n",
       "      <th>3</th>\n",
       "      <td>AUDUSD_20180111_68400s_75600s_1000</td>\n",
       "      <td>FXX</td>\n",
       "      <td>20180111</td>\n",
       "      <td>AUD.USD</td>\n",
       "      <td>68400s</td>\n",
       "      <td>75600s</td>\n",
       "      <td>0</td>\n",
       "      <td>1000</td>\n",
       "    </tr>\n",
       "  </tbody>\n",
       "</table>\n",
       "</div>"
      ],
      "text/plain": [
       "                                token  ISO      date      ccy starttime  \\\n",
       "0     AUDUSD_20180111_68400s_68700s_1  FXX  20180111  AUD.USD    68400s   \n",
       "1  AUDUSD_20180111_68400s_68700s_1000  FXX  20180111  AUD.USD    68400s   \n",
       "2     AUDUSD_20180111_68400s_75600s_1  FXX  20180111  AUD.USD    68400s   \n",
       "3  AUDUSD_20180111_68400s_75600s_1000  FXX  20180111  AUD.USD    68400s   \n",
       "\n",
       "  endtime  startshare  endshare  \n",
       "0  68700s           0         1  \n",
       "1  68700s           0      1000  \n",
       "2  75600s           0         1  \n",
       "3  75600s           0      1000  "
      ]
     },
     "execution_count": 13,
     "metadata": {},
     "output_type": "execute_result"
    }
   ],
   "source": [
    "## Add row-by-row in pandas\n",
    "# - Create the inputfile (DF) from using a dictionary to add each Row (EFFICIENT!)\n",
    "\n",
    "## Set your configuration\n",
    "ccyall = ['AUDUSD']\n",
    "dates = [20180111]\n",
    "itime = 14+5 # initial hours in GMT (try before 2pm so that we can add 2hrs without issues...)\n",
    "mydurations = [5,120] # (x2)\n",
    "myorders = [1,1000] # in millions (x2)\n",
    "timerange = []\n",
    "for dur in mydurations:\n",
    "    timerange.append([str(itime*3600)+'s',str(itime*3600+dur*60)+'s'])\n",
    "    \n",
    "row_list = []\n",
    "for ccy in ccyall:\n",
    "    for day in dates:\n",
    "        for t in timerange:\n",
    "            for s in myorders:\n",
    "                d = {}\n",
    "                d['token'] = ccy+'_'+str(day)+'_'+t[0]+'_'+t[1]+'_'+str(s)\n",
    "                d['ISO'] = 'FXX'\n",
    "                d['date'] = day\n",
    "                d['ccy'] = ccy[0:3]+'.'+ccy[3:6]\n",
    "                d['starttime'] = t[0] \n",
    "                d['endtime'] = t[1]\n",
    "                d['startshare'] = 0\n",
    "                d['endshare'] = s\n",
    "                row_list.append(d)\n",
    "# Create df from dic\n",
    "inputfile = pd.DataFrame(row_list)\n",
    "desired_colOrder = ['token', 'ISO', 'date', 'ccy', 'starttime', 'endtime', 'startshare','endshare']\n",
    "inputfile = inputfile[desired_colOrder]\n",
    "inputfile"
   ]
  },
  {
   "cell_type": "markdown",
   "metadata": {},
   "source": [
    "## Sklearn ML"
   ]
  },
  {
   "cell_type": "code",
   "execution_count": 5,
   "metadata": {},
   "outputs": [
    {
     "name": "stdout",
     "output_type": "stream",
     "text": [
      "Parameters currently in use:\n",
      "\n",
      "{'bootstrap': True,\n",
      " 'criterion': 'mse',\n",
      " 'max_depth': None,\n",
      " 'max_features': 'auto',\n",
      " 'max_leaf_nodes': None,\n",
      " 'min_impurity_decrease': 0.0,\n",
      " 'min_impurity_split': None,\n",
      " 'min_samples_leaf': 1,\n",
      " 'min_samples_split': 2,\n",
      " 'min_weight_fraction_leaf': 0.0,\n",
      " 'n_estimators': 10,\n",
      " 'n_jobs': 1,\n",
      " 'oob_score': False,\n",
      " 'random_state': 42,\n",
      " 'verbose': 0,\n",
      " 'warm_start': False}\n"
     ]
    }
   ],
   "source": [
    "## 1) Checking the default parameters\n",
    "from sklearn.ensemble import RandomForestRegressor\n",
    "rf = RandomForestRegressor(random_state = 42)\n",
    "from pprint import pprint\n",
    "# Look at parameters used by our current forest\n",
    "print('Parameters currently in use:\\n')\n",
    "pprint(rf.get_params())"
   ]
  },
  {
   "cell_type": "code",
   "execution_count": 8,
   "metadata": {},
   "outputs": [
    {
     "name": "stdout",
     "output_type": "stream",
     "text": [
      "{'bootstrap': [True, False],\n",
      " 'max_depth': [10, 20, 30, 40, 50, 60, 70, 80, 90, 100, 110, None],\n",
      " 'max_features': ['auto', 'sqrt'],\n",
      " 'min_samples_leaf': [1, 2, 4],\n",
      " 'min_samples_split': [2, 5, 10],\n",
      " 'n_estimators': [200, 400, 600, 800, 1000, 1200, 1400, 1600, 1800, 2000]}\n"
     ]
    }
   ],
   "source": [
    "## 2) Randomized GridSearch\n",
    "# - Ref: https://towardsdatascience.com/hyperparameter-tuning-the-random-forest-in-python-using-scikit-learn-28d2aa77dd74\n",
    "# - https://github.com/WillKoehrsen/Machine-Learning-Projects/blob/master/random_forest_explained/Improving%20Random%20Forest%20Part%202.ipynb\n",
    "import numpy as np\n",
    "from sklearn.model_selection import RandomizedSearchCV\n",
    "# Number of trees in random forest\n",
    "n_estimators = [int(x) for x in np.linspace(start = 200, stop = 2000, num = 10)]\n",
    "# Number of features to consider at every split\n",
    "max_features = ['auto', 'sqrt']\n",
    "# Maximum number of levels in tree\n",
    "max_depth = [int(x) for x in np.linspace(10, 110, num = 11)]\n",
    "max_depth.append(None)\n",
    "# Minimum number of samples required to split a node\n",
    "min_samples_split = [2, 5, 10]\n",
    "# Minimum number of samples required at each leaf node\n",
    "min_samples_leaf = [1, 2, 4]\n",
    "# Method of selecting samples for training each tree\n",
    "bootstrap = [True, False]\n",
    "# Create the random grid\n",
    "random_grid = {'n_estimators': n_estimators,\n",
    "               'max_features': max_features,\n",
    "               'max_depth': max_depth,\n",
    "               'min_samples_split': min_samples_split,\n",
    "               'min_samples_leaf': min_samples_leaf,\n",
    "               'bootstrap': bootstrap}\n",
    "pprint(random_grid)"
   ]
  },
  {
   "cell_type": "code",
   "execution_count": null,
   "metadata": {},
   "outputs": [],
   "source": [
    "# (cont)\n",
    "# Fit\n",
    "# Use the random grid to search for best hyperparameters\n",
    "# First create the base model to tune\n",
    "rf = RandomForestRegressor()\n",
    "# Random search of parameters, using 3 fold cross validation, \n",
    "# search across 100 different combinations, and use all available cores\n",
    "rf_random = RandomizedSearchCV(estimator = rf, param_distributions = random_grid, n_iter = 100, cv = 3, verbose=2, random_state=42, n_jobs = -1)\n",
    "# Fit the random search model\n",
    "rf_random.fit(train_features, train_labels) # NEED DATA...\n",
    "# Get the best parameters\n",
    "rf_random.best_params_\n"
   ]
  },
  {
   "cell_type": "markdown",
   "metadata": {},
   "source": [
    "## I/O"
   ]
  },
  {
   "cell_type": "code",
   "execution_count": 5,
   "metadata": {},
   "outputs": [],
   "source": [
    "# More efficient way of wrking with paths...\n",
    "# REF: \n",
    "# - https://realpython.com/python-pathlib/\n",
    "# - https://docs.python.org/3/library/pathlib.html\n",
    "from pathlib import Path\n",
    "# Joining paths\n",
    "Path.home().joinpath('folder1','folder2')\n",
    "rr = Path.home() / 'folder1' / 'folder2' "
   ]
  },
  {
   "cell_type": "code",
   "execution_count": 8,
   "metadata": {},
   "outputs": [
    {
     "data": {
      "text/plain": [
       "('/', 'home', 'jide', 'folder1', 'folder2')"
      ]
     },
     "execution_count": 8,
     "metadata": {},
     "output_type": "execute_result"
    }
   ],
   "source": [
    "rr.parts"
   ]
  },
  {
   "cell_type": "code",
   "execution_count": 10,
   "metadata": {},
   "outputs": [
    {
     "data": {
      "text/plain": [
       "False"
      ]
     },
     "execution_count": 10,
     "metadata": {},
     "output_type": "execute_result"
    }
   ],
   "source": [
    "rr.exists()"
   ]
  },
  {
   "cell_type": "code",
   "execution_count": null,
   "metadata": {},
   "outputs": [],
   "source": [
    "import pickle\n",
    "## Save and Load objects\n",
    "myobj = someclass()\n",
    "# Save\n",
    "pickle.dump(myobj,open(\"holdobj.p\",\"wb\"))\n",
    "# Load\n",
    "myobj = pickle.load(open(\"holdobj.p\",\"rb\"))\n"
   ]
  },
  {
   "cell_type": "markdown",
   "metadata": {},
   "source": [
    "## Utils"
   ]
  },
  {
   "cell_type": "code",
   "execution_count": 11,
   "metadata": {},
   "outputs": [],
   "source": [
    "# Magic command to update external library in every cell in Jupyter!\n",
    "%load_ext autoreload\n",
    "%autoreload 2"
   ]
  },
  {
   "cell_type": "code",
   "execution_count": 13,
   "metadata": {},
   "outputs": [
    {
     "name": "stdout",
     "output_type": "stream",
     "text": [
      "3\n"
     ]
    }
   ],
   "source": [
    "# Parsing arguments from dictionary\n",
    "import argparse\n",
    "\n",
    "def ji_example(dicflag):\n",
    "    nn = argparse.Namespace(**dicflag)\n",
    "    print(nn.a)\n",
    "d = {\"a\": 3, \"b\": 12}\n",
    "ji_example(d)"
   ]
  },
  {
   "cell_type": "code",
   "execution_count": 11,
   "metadata": {},
   "outputs": [
    {
     "name": "stdout",
     "output_type": "stream",
     "text": [
      "55.0\n"
     ]
    }
   ],
   "source": [
    "## Switch function using dictionary: assign one or another value to a variable depending on another varible\n",
    "x= 'cloudy'\n",
    "mean_temp = {'cloudy': 55.0, 'sunny': 75.0}[x]\n",
    "print(mean_temp)\n"
   ]
  },
  {
   "cell_type": "markdown",
   "metadata": {},
   "source": [
    "## PLOTS"
   ]
  },
  {
   "cell_type": "code",
   "execution_count": 13,
   "metadata": {},
   "outputs": [
    {
     "data": {
      "image/png": "[encoded data removed]",
      "text/plain": [
       "<matplotlib.figure.Figure at 0x7fe06dde0f28>"
      ]
     },
     "metadata": {
      "needs_background": "light"
     },
     "output_type": "display_data"
    }
   ],
   "source": [
    "import numpy as np\n",
    "import matplotlib.pyplot as plt\n",
    "\n",
    "means   = [26.82,26.4,61.17,61.55]         # Mean Data \n",
    "stds    = [4.59,4.39,4.37,4.38]            # Standard deviation Data\n",
    "peakval = ['26.82','26.4','61.17','61.55'] # String array of means\n",
    "\n",
    "ind = np.arange(len(means))\n",
    "width = 0.35\n",
    "colours = ['red','blue','green','yellow']\n",
    "\n",
    "plt.figure()\n",
    "plt.title('Average Age')\n",
    "for i in range(len(means)):\n",
    "    #plt.bar(ind[i],means[i],width,color=colours[i],align='center',yerr=stds[i],ecolor='k')\n",
    "    plt.bar(ind[i],means[i],width,color=colours[i],align='center',yerr=stds[i],\n",
    "            error_kw=dict(ecolor='k', lw=2, capsize=5, capthick=2))\n",
    "    \n",
    "plt.ylabel('Age (years)')\n",
    "plt.xticks(ind,('Young Male','Young Female','Elderly Male','Elderly Female'))\n",
    "\n",
    "def autolabel(bars,peakval):\n",
    "    for ii,bar in enumerate(bars):\n",
    "        height = bars[ii]\n",
    "        plt.text(ind[ii]+0.2, height, '%s'% (peakval[ii]), ha='center', va='bottom')\n",
    "\n",
    "autolabel(means,peakval)\n",
    "plt.show()"
   ]
  },
  {
   "cell_type": "code",
   "execution_count": null,
   "metadata": {},
   "outputs": [],
   "source": []
  },
  {
   "cell_type": "markdown",
   "metadata": {},
   "source": [
    "## Jupyter notebook Hacks"
   ]
  },
  {
   "cell_type": "code",
   "execution_count": 1,
   "metadata": {},
   "outputs": [
    {
     "name": "stderr",
     "output_type": "stream",
     "text": [
      "UsageError: unrecognized arguments: # Interactive\n"
     ]
    }
   ],
   "source": [
    "%matplotlib inline\n",
    "%matplotlib notebook # Interactive"
   ]
  },
  {
   "cell_type": "markdown",
   "metadata": {},
   "source": [
    "### Color font\n",
    "<font color=red>(similar to volatility)</font> "
   ]
  },
  {
   "cell_type": "markdown",
   "metadata": {},
   "source": [
    "# This is a level 1 heading\n",
    "## This is a level 2 heading\n",
    "This is some plain text that forms a paragraph.\n",
    "Add emphasis via **bold** and __bold__, or *italic* and _italic_.\n",
    "\n",
    "Paragraphs must be separated by an empty line.\n",
    "\n",
    "* Sometimes we want to include lists.\n",
    " * Which can be indented.\n",
    "\n",
    "1. Lists can also be numbered.\n",
    "2. For ordered lists.\n",
    "\n",
    "[It is possible to include hyperlinks](https://www.example.com)\n",
    "\n",
    "Inline code uses single backticks: `foo()`, and code blocks use triple backticks:\n",
    "\n",
    "```\n",
    "bar()\n",
    "```\n",
    "\n",
    "Or can be intented by 4 spaces:\n",
    "\n",
    "    foo()\n",
    "\n",
    "And finally, adding images is easy: ![Alt text](https://www.example.com/image.jpg)"
   ]
  },
  {
   "cell_type": "markdown",
   "metadata": {},
   "source": [
    "1. [Intro](#intro)<br>\n",
    "    1.1 [Part A](#pA)<br>\n",
    "    1.2 [Part B](#pB)<br>\n",
    "    1.3 [Part C](#pC)<br>\n",
    "2. [Main](#main)<br>"
   ]
  },
  {
   "cell_type": "markdown",
   "metadata": {},
   "source": [
    "### Plots and visualization"
   ]
  },
  {
   "cell_type": "code",
   "execution_count": null,
   "metadata": {},
   "outputs": [],
   "source": [
    "## HISTOGRAM --> MY CHOICE: plt.hist() is more friendly and flexible\n",
    "\n",
    "#sns.distplot(ds1[ds2.between(crange[0],crange[1])]) # DOES NOT SHOW FREQUENCY...\n",
    "#ds1[ds2.between(crange[0],crange[1])].hist(bins=100) # not sure how to get the x and y...\n",
    "y, x, _ = plt.hist(ds1[ds2.between(crange[0],crange[1])].values,bins=50)\n",
    "#print(dfx[condName].describe())\n",
    "#print('%s>0: %d bins(5min)' % (condName,np.sum(dfx[condName] > 0)))\n",
    "#print('%s<0: %d bins(5min)' % (condName,np.sum(dfx[condName] < 0)))\n",
    "plt.title('Distribution of %s (range#%d:%2.3f-%2.3f)'%(varName,i,crange[0],crange[1]))\n",
    "\n",
    "## ANNOTATION --> MY CHOICE: use plt.text: you can set your font size easily!\n",
    "#plt.annotate('test',xy=(x.max()*0.3,0.95*y.max()))\n",
    "plt.text(x.max()*0.3,0.95*y.max(),'test',fontsize=16)"
   ]
  },
  {
   "cell_type": "markdown",
   "metadata": {},
   "source": [
    "### DateTime"
   ]
  },
  {
   "cell_type": "code",
   "execution_count": 4,
   "metadata": {},
   "outputs": [
    {
     "data": {
      "text/plain": [
       "datetime.datetime(2017, 1, 3, 0, 0)"
      ]
     },
     "execution_count": 4,
     "metadata": {},
     "output_type": "execute_result"
    }
   ],
   "source": [
    "mydate = datetime.datetime(2017,1,3)\n",
    "mydate"
   ]
  },
  {
   "cell_type": "code",
   "execution_count": null,
   "metadata": {},
   "outputs": [],
   "source": []
  }
 ],
 "metadata": {
  "kernelspec": {
   "display_name": "Python 3",
   "language": "python",
   "name": "python3"
  },
  "language_info": {
   "codemirror_mode": {
    "name": "ipython",
    "version": 3
   },
   "file_extension": ".py",
   "mimetype": "text/x-python",
   "name": "python",
   "nbconvert_exporter": "python",
   "pygments_lexer": "ipython3",
   "version": "3.6.5"
  }
 },
 "nbformat": 4,
 "nbformat_minor": 2
}
