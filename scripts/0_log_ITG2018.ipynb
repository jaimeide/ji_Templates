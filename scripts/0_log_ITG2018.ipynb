{
 "cells": [
  {
   "cell_type": "markdown",
   "metadata": {},
   "source": [
    "# ITG 2018"
   ]
  },
  {
   "cell_type": "markdown",
   "metadata": {},
   "source": [
    "## 1. RLGym"
   ]
  },
  {
   "cell_type": "markdown",
   "metadata": {},
   "source": [
    "Setup Virtual environment:\n",
    "\n",
    "- newfe-s18:/home/jide/gitlab/QRLab/RL-Gym/\\$ virtualenv rlgym\n",
    "- newfe-s18:/home/jide/\\$ source virtualenv/rlgym/bin/activate "
   ]
  },
  {
   "cell_type": "code",
   "execution_count": 3,
   "metadata": {},
   "outputs": [],
   "source": [
    "# Working example\n",
    "/home/jide/gitlab/QRLab/RL-Gym/users/jide/AITrader_amann/AITrader_rework.py\n"
   ]
  },
  {
   "cell_type": "code",
   "execution_count": null,
   "metadata": {},
   "outputs": [],
   "source": []
  },
  {
   "cell_type": "markdown",
   "metadata": {},
   "source": [
    "## 2. VolPrediction (Volume prediction)"
   ]
  },
  {
   "cell_type": "markdown",
   "metadata": {},
   "source": [
    "1) Meeting with Kris\n",
    "\n",
    "- understanding a bit more the code and the regression\n",
    "- made a commented script (Pycharm folder): MC30MinResidualPredictionINTL_ji.py\n",
    "\n",
    "2) Curated data structure (dataframe columns)\n",
    "- From: all_df.to_pickle(f'./ResidualRegression_30Min_{iso}_'+month.strftime(\"%Y%m\")+'.gz')\n",
    "\n",
    "3) Regression and RF experiments:\n",
    "- Reading: http://newfe-s18.jc.itginc.com:8888/notebooks/projects/MCPrediction/ji_P2VolPred_1_ReadingVol.ipynb\n",
    "- Load regress results from Kris: http://newfe-s18.jc.itginc.com:8888/notebooks/projects/MCPrediction/ji_P2VolPred_2_load_ResidRegress.ipynb\n",
    "- Experiment with RF: http://newfe-s18.jc.itginc.com:8888/notebooks/projects/MCPrediction/ji_P2VolPred_3_Experiments_Oct17.ipynb\n"
   ]
  },
  {
   "cell_type": "markdown",
   "metadata": {},
   "source": [
    "## 3. FXACE "
   ]
  },
  {
   "cell_type": "markdown",
   "metadata": {},
   "source": [
    "1) Volume and volatility ratio\n",
    "- Volu vola ratio: http://newfe-s18.jc.itginc.com:8888/notebooks/projects/Danlu/ji_FX_get_ratio_Volu_Vola.ipynb\n",
    "- VoluVola Part 2: http://newfe-s18.jc.itginc.com:8888/notebooks/projects/Danlu/ji_FX_get_ratio_Volu_Vola_Part2.ipynb\n",
    "\n",
    "2) Empirical Study (Calibration)\n",
    "- Danlu's original script (with paths updated): http://newfe-s18.jc.itginc.com:8888/notebooks/projects/Danlu/3_FXACE/FXACEEstimate/bin/noarch/EmpiricalStudy.ipynb\n",
    "- My version of script: http://newfe-s18.jc.itginc.com:8888/notebooks/projects/Danlu/3_FXACE/FXACEEstimate/bin/noarch/EmpiricalStudy_ji.ipynb#\n",
    "\n",
    "3) Empirical Study after new client (7194)\n",
    "- Script with comments explaining terms: http://newfe-s18.jc.itginc.com:8888/notebooks/projects/Danlu/3_FXACE/FXACEEstimate/bin/noarch/dx_ji_analysis_addNewClient_Oct30_EXPLAINED.ipynb\n",
    "- Orig+7194: http://newfe-s18.jc.itginc.com:8888/notebooks/projects/Danlu/3_FXACE/FXACEEstimate/bin/noarch/dx_ji_analysis_addNewClient_Oct31.ipynb#\n",
    "- Only 7194: http://newfe-s18.jc.itginc.com:8888/notebooks/projects/Danlu/3_FXACE/FXACEEstimate/bin/noarch/dx_ji_FXACE_Analysis_SingleClient.ipynb\n",
    "- **Nov6**: Complete analysis Orig. and 7194, together and separate for Period 1 (2018/02/01-2018/09/31) as well as for overlaping Period 2 (2018/02/01-2018/04/30): http://newfe-s18.jc.itginc.com:8888/notebooks/projects/Danlu/3_FXACE/FXACEEstimate/bin/noarch/dx_ji_FX_Analysis_newClient_Nov6.ipynb#\n",
    "- **Nov8 (NEW)**: 7149 without FORWARD trades: http://newfe-s18.jc.itginc.com:8888/notebooks/projects/Danlu/3_FXACE/FXACEEstimate/bin/noarch/dx_ji_FXACE_Analysis_SingleClient_SPOT_Nov8.ipynb\n",
    "- **Nov8 (NEW)**: repeat the EmpxFXACE analyses (Nov6) with the 7194 with only SPOT trades: http://newfe-s18.jc.itginc.com:8888/notebooks/projects/Danlu/3_FXACE/FXACEEstimate/bin/noarch/ji_FX_Filtering_FORWARD_Nov7.ipynb\n",
    "- **Nov12 (NEW: Clustering Main)**: clustering with Affinity Propagation and DBSCAN (has many func)\n",
    "http://newfe-s18.jc.itginc.com:8888/notebooks/projects/Danlu/3_FXACE/FXACEEstimate/bin/noarch/ji_FX_Filtering_Clustering_Nov12.ipynb\n",
    "- **Nov15 (NEW: Experiments with new clustering)**: experiments Empirical costs with new clusters (FXACE costs were not computed...): http://newfe-s18.jc.itginc.com:8888/notebooks/projects/Danlu/3_FXACE/FXACEEstimate/bin/noarch/ji_FX_Clustering_NEW_Nov15.ipynb\n",
    "- **Nov19 (NEW by Ruben's request)**: computeing the ration between clusternetflow and the sumbinabsnetflow: http://newfe-s18.jc.itginc.com:8888/notebooks/projects/Danlu/3_FXACE/FXACEEstimate/bin/noarch/ji_FX_ratio_BuySell_Nov19.ipynb#3)-Clustering\n",
    "\n",
    "3) Others\n",
    "- Notebook version of FGcalibrate.py: http://newfe-s18.jc.itginc.com:8888/notebooks/projects/Danlu/3_FXACE/FXACEEstimate/bin/noarch/FGcalibrate_ji.ipynb (it worked)\n",
    "\n",
    "4) Growing Neural Gas (GNG) with MDP\n",
    "- Getting connected components: http://newfe-s18.jc.itginc.com:8888/notebooks/projects/Danlu/3_FXACE/FXACEEstimate/bin/noarch/ji_mdp_sample_GNG.ipynb\n",
    "\n",
    "5) Clustering with sklearn:\n",
    "- DBSCAN example: http://newfe-s18.jc.itginc.com:8888/notebooks/projects/Danlu/3_FXACE/FXACEEstimate/bin/noarch/ji_sklearn_DBSCAN.ipynb"
   ]
  },
  {
   "cell_type": "markdown",
   "metadata": {},
   "source": [
    "**(2019)**\n",
    "\n",
    "6) Calibration with Linux engine\n",
    "- [x] _Do you have similar plots for major crosses? (I would guess we don’t have sufficient sample size in FX peer group for minors.)_  \n",
    " > YES\n",
    "\n",
    "- [x] _Also, did you try generating similar plots by currency pair (for majors) to detect whether any pair contributes disproportionally to over-/under-estimation?_ \n",
    " > SOME\n",
    "\n",
    "- [x] Examine cost curves by ccy and period\n",
    " - Examine by parts:\n",
    "   - http://newfe-s18.jc.itginc.com:8888/notebooks/projects/Danlu/0_FXACEEstimate_noarch/dx_ji_analysis_Calibration_Dec2018.ipynb\n",
    "   - http://newfe-s18.jc.itginc.com:8888/notebooks/projects/Danlu/0_FXACEEstimate_noarch/dx_ji_analysis_Calibration_Jan2019.ipynb\n",
    " - Examine all together: \n",
    "   - http://newfe-s18.jc.itginc.com:8888/notebooks/projects/Danlu/0_FXACEEstimate_noarch/dx_ji_analysis_Calibration_by_ccy_Jan2019.ipynb <font color=red>**(used for Table)**\n",
    "\n",
    "- [x] **Meeting with Ruben (Jan7 2019)**: results in <font color=red>tr03c_FX_EmpxEng_Costs_newLinuxEng_COMPLETE_Jan07.pptx</font>\n",
    "    - Instant (+by Size)):\n",
    "    http://newfe-s18.jc.itginc.com:8888/notebooks/projects/Danlu/0_FXACEEstimate_noarch/dx_ji_analysis_Calibration_by_ccy_Jan2019_0min_10min.ipynb\n",
    "    - Long (+by Size): \n",
    "    http://newfe-s18.jc.itginc.com:8888/notebooks/projects/Danlu/0_FXACEEstimate_noarch/dx_ji_Calibration_by_ccy_Jan2019_10min_120min.ipynb\n",
    "    - Full: http://newfe-s18.jc.itginc.com:8888/notebooks/projects/Danlu/0_FXACEEstimate_noarch/dx_ji_analysis_Calibration_by_ccy_Jan2019_0min_120min.ipynb\n",
    "\n",
    "- [x] **Meeting with Milan and Konstantin (Jan11 2019)**: results with byClient clustering. Details in <font color=red>tr03d_FX_EmpxEng_Costs_clusterByClient_Jan11.pptx</font>\n",
    "    - Descriptive Stats with Original clustering (did not filter bad data in 2016...): http://newfe-s18.jc.itginc.com:8888/notebooks/projects/Danlu/0_FXACEEstimate_noarch/ji_FXACE_DescriptiveStats_ClusterOriginal_Jan11.ipynb\n",
    "    - Descriptive Stats with ByClient clustering (filtered bad data before 20170110): http://newfe-s18.jc.itginc.com:8888/notebooks/projects/Danlu/0_FXACEEstimate_noarch/ji_FXACE_DescriptiveStats_ClusterByClient_Jan9.ipynb\n",
    "    - Exploration (did not filter bad data...):\n",
    "      - http://newfe-s18.jc.itginc.com:8888/notebooks/projects/Danlu/0_FXACEEstimate_noarch/ji_FXACE_DescriptiveStats_ClusterByClient_Jan9.ipynb#Instant\n",
    "      - http://newfe-s18.jc.itginc.com:8888/notebooks/projects/Danlu/0_FXACEEstimate_noarch/ji_FXACE_DescriptiveStats_ClusterByClient_moreBuckets_Jan11.ipynb\n",
    "      - http://newfe-s18.jc.itginc.com:8888/notebooks/projects/Danlu/0_FXACEEstimate_noarch/ji_FXACE_BucketBarPlost_ClusterByClient_Jan11.ipynb\n",
    "    - EmpCost x FXACE costs --> new clutering looking better\n",
    "      - Original clustering: http://newfe-s18.jc.itginc.com:8888/notebooks/projects/Danlu/0_FXACEEstimate_noarch/dx_ji_analysis_Calibration_by_ccy_Jan2019_0min_120min.ipynb\n",
    "      - New ByClient clutering (<font color=red>used to generate **holdobj_Jan8_EmpCost.p**</font>): http://newfe-s18.jc.itginc.com:8888/notebooks/projects/Danlu/0_FXACEEstimate_noarch/dx_ji_analysis_Calibration_clusterByClient_Jan09.ipynb#\n",
    "\n",
    "    - Follow-up analyses after meeting: - http://newfe-s18.jc.itginc.com:8888/notebooks/projects/Danlu/0_FXACEEstimate_noarch/ji_FXACE_DescriptiveStats_ClusterByClient_Jan11.ipynb (<font color=red>Good results (compare with bySide</font>)\n",
    "        - [x] Examine results by filtering the clusters based on the netflow type (pure \"sides\")\n",
    "        - [x] Add FXACE line in the plots\n",
    "        - [x] Generated plots and tables: http://newfe-s18.jc.itginc.com:8888/notebooks/projects/Danlu/0_FXACEEstimate_noarch/ji_FXACE_DescriptiveStats_ClusterByClient_Jan11-Copy1.ipynb\n",
    "\n",
    "- [x] **Meeting with Ruben (Jan14 2019)**\n",
    "    - Ruben's suggestion: examine the ECN data and produce similar empirical cost curves.\n",
    "    - Steps: \n",
    "        - 1) Load and save ECN data (trades): http://newfe-s18.jc.itginc.com:8888/notebooks/projects/Danlu/0_FXACEEstimate_noarch/ji_FXACE_ECN_Step1_get_Trades_Jan14.ipynb\n",
    "            - About 28 million trades from 20170101 to 20181231. Using the trading dates from the FX Connect clients. Supposedly, this takes care of holidays and special days.\n",
    "            - Merge all ECN: CBOE, EBS and Thomson Reuters\n",
    "        - 2) Compute EmpCost as discussed with Konstantin: http://newfe-s18.jc.itginc.com:8888/notebooks/projects/Danlu/0_FXACEEstimate_noarch/ji_FXACE_ECN_Step2_compute_EmpCost_Jan15.ipynb\n",
    "            - Compute the empirical costs of clusters binned within 5min, 30min, 120min and 480min.\n",
    "            - Benchmark price used are from FE database instead of the midquote computed from the Quote files, for a quick solution.\n",
    "        - 3) Analyze EmpCost x Size: http://newfe-s18.jc.itginc.com:8888/notebooks/projects/Danlu/0_FXACEEstimate_noarch/ji_FXACE_ECN_Step3_analyze_EmpCost_Jan16.ipynb\n",
    "            - Compute the Descriptive tables and the plots: EmpCostxSize conditioned by ccy and duration.\n",
    "            - Trade duration is defined as the lastbin-firstbin (trades) instead of the binning size.\n",
    "        - 2*-3*) (alternative) Generate 2hrs clusters like before with the hope we will have 5min and 30min duration clusters within those clusters: http://newfe-s18.jc.itginc.com:8888/notebooks/projects/Danlu/0_FXACEEstimate_noarch/ji_FXACE_ECN_Step4_get_DescripStats_Jan15.ipynb\n",
    "        \n",
    "- **Clustering by Client+Side (Jan23 2019)**\n",
    "    - [x] **Generate clusterdata and save + FXACE plan&strat** + Initial Empirical cost curves (version 1 - Jan21) (Ref:<font color=red> tr03f_FX_DescriptiveStats_clusterByClientBySide_Jan23.pptx (**SAVE PLAN AND STRAT**)</font>): http://newfe-s18.jc.itginc.com:8888/notebooks/projects/Danlu/0_FXACEEstimate_noarch/dx_ji_create_newClustering_ByClientBySide_Jan21.ipynb\n",
    "    - [x] **Better looking plots** (Jan24) (Ref:<font color=red> tr03fx_FX_DescriptiveStats_clusterByClientBySide_Jan24.pptx</font>)Same thing but now playing with bucketing to get a better looking curves: http://newfe-s18.jc.itginc.com:8888/notebooks/projects/Danlu/0_FXACEEstimate_noarch/dx_ji_analysis_newClustering_ByClientBySide_Jan24.ipynb"
   ]
  },
  {
   "cell_type": "markdown",
   "metadata": {},
   "source": [
    "- **FXACE with new clusters (client+side)** (Jan25-Feb01)\n",
    "    - [x] **EmpCost x FXACE Analysis: dx plots + ji plots** Only 2018 for quick test (Jan25) (Ref:<font color=red> 2018</font>): http://newfe-s18.jc.itginc.com:8888/notebooks/projects/Danlu/0_FXACEEstimate_noarch/dx_ji_Analysis_EmpCostxFXACE_ByClientSide_2018_Jan25.ipynb\n",
    "    - [x] **EmpCost x FXACE Analysis: dx plots + ji plots** Whole period (Jan25) --> Looking actually OK... (Ref:<font color=red>2017+2018</font>): http://newfe-s18.jc.itginc.com:8888/notebooks/projects/Danlu/0_FXACEEstimate_noarch/dx_ji_Analysis_EmpCostxFXACE_ByClientSide_ALL_Jan25.ipynb\n",
    "    - [x] **Experiemtn 0 (New engine) default parameters** (Jan28) --> Looking flat and BAD... : http://newfe-s18.jc.itginc.com:8888/notebooks/projects/Danlu/0_FXACEEstimate_noarch/dx_ji_Exp0_EmpCostxFXACE_ByClientSide_ALL_Jan28.ipynbb\n",
    "    - [x] **FXACE Playground** (Jan28): how engine costs change with {alpha,xTransition}: http://newfe-s18.jc.itginc.com:8888/notebooks/projects/Danlu/0_FXACEEstimate_noarch/ji_FXACE_Engine_playground_Jan28.ipynb\n",
    "\n",
    "    - [x] **Experiemtn 1 (New engine) multiplyC_1** <font color=red>(visible improvement!)</font> (Jan29): http://newfe-s18.jc.itginc.com:8888/notebooks/projects/Danlu/0_FXACEEstimate_noarch/dx_ji_Exp1_EmpCostxFXACE_ByClientSide_Jan29.ipynb\n",
    "\n",
    "    - [x] **Experiemtn 2 (New engine) multiplyC_2** <font color=red>(some improvement)</font> (Jan29): http://newfe-s18.jc.itginc.com:8888/notebooks/projects/Danlu/0_FXACEEstimate_noarch/dx_ji_Exp2_EmpCostxFXACE_ByClientSide_Jan29.ipynb\n"
   ]
  },
  {
   "cell_type": "markdown",
   "metadata": {},
   "source": [
    "- **FXACE with new clusters (client+side) LATEST ENGINE...** (Feb01-Feb08)\n",
    "    - [x] **EmpCost x FXACE Analysis: dx plots + ji plots** Exp2 calibration file with new engine (<font color=red> similar results...</font>): http://newfe-s18.jc.itginc.com:8888/notebooks/projects/Danlu/0_FXACEEstimate_noarch/dx_ji_Exp2_EmpCostxFXACE_ByClientSide_Jan31.ipynb\n",
    "    - [x] **FXACE Playground: costs and returns** Further experiment to understand the behavior of the new engine (<font color=red> include MC like volu and vola in the plots...</font>):http://newfe-s18.jc.itginc.com:8888/notebooks/projects/Danlu/0_FXACEEstimate_noarch/ji_FXACE_Playground_TradingSchedule_plus_MC_Feb1.ipynb\n",
    "    - [x] **FXACE Playground: costs and returns** Latest version including a size dependent MR (<font color=red> size dependent MR + plot with two y-axis</font>): http://newfe-s18.jc.itginc.com:8888/notebooks/projects/Danlu/0_FXACEEstimate_noarch/ji_FXACE_Playground_TradingSchedule_plus_MC_Feb5.ipynb\n",
    "    - [x] **EmpCost x FXACE Analysis: dx plots + ji plots** Exp3 default (FAKE) calibration file with new engine, looked at small buckets as well (<font color=red> size dependent MR, VWAP, OPT</font>): http://newfe-s18.jc.itginc.com:8888/notebooks/projects/Danlu/0_FXACEEstimate_noarch/dx_ji_Exp3_EmpCostxFXACE_ByClientSide_Feb4.ipynb\n",
    "    - [x] **EmpCost x FXACE Analysis: dx plots + ji plots (USERSTART)** Exp3 default (FAKE) calibration file with new engine, looked at small buckets as well + USERSTRAT (<font color=red> similar results except for EUR.USD</font>): http://newfe-s18.jc.itginc.com:8888/notebooks/projects/Danlu/0_FXACEEstimate_noarch/dx_ji_Exp3_EmpCostxFXACE_ByClientSide_UserStrat_Feb5.ipynb\n",
    "    - [ ] **EmpCost x FXACE Analysis: dx plots + ji plots (Exp 4) + created CalibrationFile**  Updated calibration file (Spread coef) with new engine(<font color=red>USERSTRAT</font>): http://newfe-s18.jc.itginc.com:8888/notebooks/projects/Danlu/0_FXACEEstimate_noarch/dx_ji_Exp4_EmpCostxFXACE_ByClientSide_UserStrat_Feb5.ipynb\n",
    "    - [ ] **EmpCost x FXACE Analysis: dx plots + ji plots (Exp 4)**  Updated calibration file (Spread coef) with new engine(<font color=red>VWAP</font>): http:http://newfe-s18.jc.itginc.com:8888/notebooks/projects/Danlu/0_FXACEEstimate_noarch/dx_ji_Exp4_EmpCostxFXACE_ByClientSide_Feb5.ipynb\n",
    "    - [ ] **EmpCost x FXACE Analysis: dx plots + ji plots (Exp 4a)**  Calibrate betaF at size [1,10] + with new engine(<font color=red>VWAP</font>): http://newfe-s18.jc.itginc.com:8888/notebooks/projects/Danlu/0_FXACEEstimate_noarch/dx_ji_Exp4a_EmpCostxFXACE_ByClientSide_Feb6.ipynb\n",
    "    - [ ] **EmpCost x FXACE Analysis: dx plots + ji plots (Exp 4a)**  Calibrate betaF at size [1,10] + with new engine(<font color=red>USERSTRAT</font>): http://newfe-s18.jc.itginc.com:8888/notebooks/projects/Danlu/0_FXACEEstimate_noarch/dx_ji_Exp4a_EmpCostxFXACE_ByClientSide_Feb6_USERSTRAT.ipynb\n",
    "    - [ ] **EmpCost x FXACE Analysis: dx plots + ji plots (Exp 4b)**  Calibrate Spread at size[0,1] + betaF at size [1,10] + with new engine(<font color=red>VWAP</font>): http://newfe-s18.jc.itginc.com:8888/notebooks/projects/Danlu/0_FXACEEstimate_noarch/dx_ji_Exp4b_EmpCostxFXACE_ByClientSide_Feb6.ipynb\n",
    "    - [ ] **EmpCost x FXACE Analysis: dx plots + ji plots (Exp 4b)**  Calibrate Spread at size[0,1] + betaF at size [1,10] + with new engine(<font color=red>USERSTRAT</font>): http://newfe-s18.jc.itginc.com:8888/notebooks/projects/Danlu/0_FXACEEstimate_noarch/dx_ji_Exp4b_EmpCostxFXACE_ByClientSide_Feb6_USERSTRAT.ipynb\n",
    "    "
   ]
  },
  {
   "cell_type": "markdown",
   "metadata": {},
   "source": [
    "- **FXACE Calibration (engine vFeb4)** (Feb08-Feb15)\n",
    "    - [x] **Generate (split) inputfile and stratfile** Create the plan files as well as the commands to run fxace (<font color=red> create inputfile and stratfile</font>): http://newfe-s18.jc.itginc.com:8888/notebooks/projects/Danlu/0_FXACEEstimate_noarch/ji_FXACE_generate_PlanStrat_Holdobj_Jan22.ipynb\n",
    "    - [x] **Look by Ccy + Examine ratioG/F** (<font color=red> increasing G/F will decrease the gap between short and long duration... NOT WANTED!</font>): http://newfe-s18.jc.itginc.com:8888/notebooks/projects/Danlu/0_FXACEEstimate_noarch/dx_ji_Exp5_EmpCostxFXACE_ByClientSide_ByCcy_Feb11_USERSTRAT.ipynb\n",
    "    - Others:\n",
    "        - http://newfe-s18.jc.itginc.com:8888/notebooks/projects/Danlu/0_FXACEEstimate_noarch/ji_FXACE_generate_PlanStrat_Holdobj_Jan22.ipynb\n",
    "        - http://newfe-s18.jc.itginc.com:8888/notebooks/projects/Danlu/0_FXACEEstimate_noarch/ji_plot_results_Exp4bFeb11.ipynb\n",
    "        - http://newfe-s18.jc.itginc.com:8888/notebooks/projects/Danlu/0_FXACEEstimate_noarch/ji_plot_results_Exp5.ipynb"
   ]
  },
  {
   "cell_type": "markdown",
   "metadata": {},
   "source": [
    "- **FXACE Calibration (engine version 2 Feb15)** (Feb22-March 1)\n",
    "    - [x] **Plots with confidence interval + byGroups(Mahors, Minor, Crosses)**. Changes were made in (<font color=red>loadCosts_dev.py</font>) to save the plots in PDF and tables in csv files. In order to do so, all cost outputs by ccy were merged together. Log can be found in: http://newfe-s18.jc.itginc.com:8888/notebooks/projects/Danlu/0_FXACEEstimate_noarch/ji_FXACE_config_Calibrated_Feb14.ipynb\n",
    "    - [x] **Cost of Intantaneous Executions Slide#15** (<font color=red>tr03j_FXACE_CostInstantExecution.pptx</font>): http://newfe-s18.jc.itginc.com:8888/notebooks/projects/Danlu/0_FXACEEstimate_noarch/ji_FXACE_Playground_TradingSchedules_slide15_Feb22.ipynb\n",
    "    - [x] **Efficient Frontier** (<font color=red>script to generate plots in PDF</font>) Draft code: http://newfe-s18.jc.itginc.com:8888/notebooks/projects/Danlu/0_FXACEEstimate_noarch/ji_FXACE_Playground_EF_Schedules_Feb26.ipynb\n",
    "    - [ ] **Clustering ByClientBySide (Clean)** (<font color=red>for GIT</font>) Draft code: http://newfe-s18.jc.itginc.com:8888/notebooks/projects/Danlu/0_FXACEEstimate_noarch/fx_generate_Clustering_ByClientBySide_Feb28.ipynb"
   ]
  },
  {
   "cell_type": "markdown",
   "metadata": {},
   "source": [
    "## 4. MAP"
   ]
  },
  {
   "cell_type": "markdown",
   "metadata": {},
   "source": [
    "## 5. AlgoDB Cost Prediction"
   ]
  },
  {
   "cell_type": "markdown",
   "metadata": {},
   "source": [
    "* [Load clusters](http://newfe-s18.jc.itginc.com:8888/notebooks/projects/P5AlgoCostPrediction/da_load_RED_clusters.ipynb) Load cluster files. Sample code from Denizhan: \n",
    "\n",
    "* [Load clusters and DailyDOB (**Nov21**)](http://newfe-s18.jc.itginc.com:8888/notebooks/projects/P5AlgoCostPrediction/ji_algoDB_CostPredict_Nov21.ipynb): Version with most measures already included \n",
    "\n",
    "* [**Analysis Part 1: EmpCost x Size** (Dec3)](http://newfe-s18.jc.itginc.com:8888/notebooks/projects/P5AlgoCostPrediction/ji_algoDB_CostPredict_Analysis1_Dec3-CORRECTED.ipynb) intermediate analysis before we continue with prediction (**RESULTS PRESENTED ON DEC/05**) \n",
    " * Create dfalgo (DF version of the cluster data)\n",
    " * Read DOB files\n",
    " * Read SQL server\n",
    " * Read Historical files \n",
    " * Create df2go: bins are stacked and features are included: Volatility (3 metrics), EmpCost, Style, prate, spread, etc\n",
    " * Comparison among the 3 vola metrics: HL, quadratic, std-based\n",
    " * Initial experiments: Cost x Volatility x Style\n",
    " \n",
    "* [**Create df2go** (Dec5)](http://newfe-s18.jc.itginc.com:8888/notebooks/projects/P5AlgoCostPrediction/ji_algoDB_CostPredict_Create_df2go_Dec5.ipynb) After initial debugging, finally get an initial data to work on! Generate **df2go_29cols.csv (TO USE)** \n",
    "\n",
    "* (Dec06) [**Analysis Part 2: EmpCost x Size**](http://newfe-s18.jc.itginc.com:8888/notebooks/projects/P5AlgoCostPrediction/ji_algoDB_CostPredict_Analysis2_Dec6.ipynb#F-cost) follow-up analyses of Part 1 (**RESULTS PRESENTED ON DEC/12**) \n",
    " * NormStyle distribution for different conditions\n",
    " * Clarifying the condition \"Style\" (solved with normStyle)\n",
    " * Wrapper for all conditions\n",
    "\n",
    "* (Dec10) [**Analysis Part 3: Alternative normalization of Cost (maxP-minP)**](http://newfe-s18.jc.itginc.com:8888/notebooks/projects/P5AlgoCostPrediction/ji_algoDB_CostPredict_Analysis3_Dec10.ipynb) continuation of analyses of Part 2 (**RESULTS PRESENTED ON DEC/12**) \n",
    " * Normalize with MaxP-MinP\n",
    "\n",
    "* (Dec10) [**Analysis Part 4: Cross-correlation** ](http://newfe-s18.jc.itginc.com:8888/notebooks/projects/P5AlgoCostPrediction/ji_algoDB_CostPredict_Analysis4_Dec12.ipynb) alternative way of examining EmpCost (**RESULTS PRESENTED ON DEC/12**) \n",
    " * Cross-correlation\n",
    " > Association of Volatility and EmpCost vanishes... too much granular and noisy... (STEP BACK)\n",
    " \n",
    "* (Dec11) [**ResAPI**](http://newfe-s18.jc.itginc.com:8888/notebooks/projects/P5AlgoCostPrediction/ji_algoDB_CostPredict_withResAPI_Dec11.ipynb) Comparing 5min data with 5sec granular data from ResAPI.\n",
    "\n",
    "* (Dec12) [**tr4: Summary of the Analyses (Part2-4)**](http://newfe-s18.jc.itginc.com:8888/notebooks/projects/tr04_P5_AlgoDB_Summary_20181211.ipynb) <font color=red>**Technical Report 4**</font>\n",
    " - Discussion (action plan):\n",
    "   - [x] Include larger range of LG\n",
    "   - [x] relSize[28]: Def: $100 \\times \\frac{dollSize}{mddv}$ include smaller sizes as well\n",
    "   - [ ] Check problematic Monikers when including smaller trades...\n",
    "   - [x] Cost Analysis: with HLG as condition\n",
    "   - [x] Cost Analysis: use F+G cost\n",
    "   - [x] Cost Analysis: with Volume (notional: shareVolume x vwap) as condition (goal: show it is not that important...)\n",
    "   - [ ] 30min dataset + Cost analyis: extend to 30min. More robust results (ESTIMATE: 1 day)"
   ]
  },
  {
   "cell_type": "markdown",
   "metadata": {},
   "source": [
    "* (Dec13) [Analysis: Cost x Volume](http://newfe-s18.jc.itginc.com:8888/notebooks/projects/P5AlgoCostPrediction/ji_algoDB_CostPredict_Volume_Dec13.ipynb) Follow-up analysis meeting Dec12. Is volume more associated with EmpCost than volatility?\n",
    "   \n",
    "* (Dec13) [Analysis: Cost x Size x Vola x Volu (Group16)](http://newfe-s18.jc.itginc.com:8888/notebooks/projects/P5AlgoCostPrediction/ji_algoDB_CostPredict_LG5up_Dec13.ipynb#) Repeat the analyses with group containing LG>5 and relSize>0.2. This gives 16% of the original dataset. \n",
    "\n",
    "* (Dec14) [Analysis: Cost x Size x Vola x Volu (Group31)](http://newfe-s18.jc.itginc.com:8888/notebooks/projects/P5AlgoCostPrediction/ji_algoDB_CostPredict_HLG_31perc_Dec14.ipynb) Repeat the analyses with group containing all HLG filtered by relSize. This gives 31% of the original dataset.\n",
    "\n",
    "* (Dec15) [**Create df2pred (Group31:HLGlarge)**](http://newfe-s18.jc.itginc.com:8888/notebooks/projects/P5AlgoCostPrediction/ji_algoDB_Create_df2pred_HLG_31perc_Dec15.ipynb) Create and save the dfpred with the next5min prediction class\n",
    " - It takes care of removing the correct row. When empCost==0, the previous bin is removed because there is nothing to predict in the next bin.\n",
    " - Removes empCost_next5min==0\n",
    "\n",
    "* (Dec17-Dec19) [**Experiment: Predict next5minEmpCost (Group31)**](http://newfe-s18.jc.itginc.com:8888/notebooks/projects/P5AlgoCostPrediction/ji_algoDB_Sklearn_predict_next5min_HLG_Dec17.ipynb#2.2)\n",
    "\n",
    "* (Dec19) [**tr5: Meeting: Summary of Analyses Dec13-19**](http://newfe-s18.jc.itginc.com:8888/notebooks/projects/tr05_P5_AlgoDB_Summary_20181219.ipynb). Discussion ended focusing on the prediction results. <font color=red>**Technical Report 5**</font>\n",
    " - Cost Analyses:\n",
    "   - [ ] Confirm results using a different metric for \"size\". In prate, instead of doing exVol/MktVol, do exVol/histVol\n",
    "   - [ ] Time to summarize all the results and get to a conclusion (short 2 pages paper)\n",
    "   - [ ] Understand what is the issue with including ALL the HLG group together...\n",
    " - Prediction of 5min Cost:\n",
    "   - [ ] Summarize in a single table with: HLG, ~6 bins along the day (78 is too much), r2 train/test, models\n",
    "   - [ ] Condition/bucket: exShare > 1K (confirm with Denizhan the exact value). Small exShare might be more influenced by Spread. In orther words, see if the size is affecting the importance of the features\n",
    "   - [ ] Condition: prediction with/without a current execution. Is it possible that the \"0\" have some effect?\n",
    "   - [ ] Prediction over a horizon: predict for 5min, 15min, 30min and say 60min. In practice, it matters how we can use the prediction. What is useful is not to predict that the Cost is going down for the rest of the day but that it will be ups and downs.\n",
    "   - [ ] AR effect. Analyze how if the influence of EmpCost over the next bins. Is there an AR effect??\n",
    "   - [ ] Functional analysis. Can we use a neural net to approximate the functional relation between Spread and Cost?\n",
    "   - [ ] Robustness check of Spread as feature. \n",
    "     - Examine the values in relative Spread and it's components... Ask-Bid/price. Does it work to use these variables separately? We could approximate by (Ask-Bid) = TWAPxPrice\n",
    "     - What about it we include the previous day price (at close)?\n",
    "   - [ ] Run predictions on Style groups. Conditioning Style is one way to split the EmpCost into the + and - sides...\n",
    "     \n",
    "* (Dec20) **Cost Analysis Group31 by HLG: Follow-up Analyses** (see Konstantin's Dec20's email)\n",
    "- [ ] Redo the analyses with 30 mins bins. \n",
    "- [ ] Look at FGcost x Size (by: normStyle) Add in pptx"
   ]
  },
  {
   "cell_type": "markdown",
   "metadata": {},
   "source": [
    "### (2019)"
   ]
  },
  {
   "cell_type": "markdown",
   "metadata": {},
   "source": [
    "* (Jan03) [**Market Conditions: Load and Save (Kris' SMI)**](http://newfe-s18.jc.itginc.com:8888/notebooks/projects/P5AlgoCostPrediction/ji_algoDB_LoadSave_df_MarketConditions_Jan03.ipynb)\n",
    "- [x] Load daily MarketConditions (Kris): they are in 5min bins\n",
    "- [ ] Load the beta coefficients and compute the vola predictions (30min)\n",
    "- [ ] Use Akima interpolation for 5min grid\n",
    "- [ ] Add in df2pred format for prediction\n"
   ]
  },
  {
   "cell_type": "markdown",
   "metadata": {},
   "source": [
    "### Looking at Return"
   ]
  },
  {
   "cell_type": "markdown",
   "metadata": {},
   "source": [
    "- [x] For comparison: **HLG31perc: Cost results**: http://newfe-s18.jc.itginc.com:8888/notebooks/projects/P5AlgoCostPrediction/ji_algoDB_CostPredict_HLG_31perc_Dec14.ipynb\n",
    "- [x] Compute Return for the **HLG31perc**:\n",
    "http://newfe-s18.jc.itginc.com:8888/notebooks/projects/P5AlgoCostPrediction/ji_algoDB_compute_Return_HLG_31perc_20190307.ipynb\n"
   ]
  },
  {
   "cell_type": "markdown",
   "metadata": {},
   "source": [
    "(March 11-15)\n",
    "- [x] Examine Return for the **HLG31perc: Return results (signed)**: http://newfe-s18.jc.itginc.com:8888/notebooks/projects/P5AlgoCostPrediction/ji_algoDB_examine_Return_HLG_31perc_20190308.ipynb\n",
    "\n",
    "- [x] Meeting with Konstantin\n",
    " - [ ] Exclude the highPrice and lowPrice outliers (why they are zero? missing?)\n",
    " - [ ] Normalize return by vola\n",
    " - [ ] Look separately by HLG since they might have different behaviors\n",
    " \n",
    "- [x] Examine Return for the **HLG31perc: Return results (normalized by histVola)**: http://newfe-s18.jc.itginc.com:8888/notebooks/projects/P5AlgoCostPrediction/ji_algoDB_examine_Return_HLG_31perc_20190311.ipynb\n",
    "- [x] [ ] Examine Return for the **HLG31perc: Return results (normalized by realVola)**: http://newfe-s18.jc.itginc.com:8888/notebooks/projects/P5AlgoCostPrediction/ji_algoDB_examine_Return_HLG_31perc_20190312.ipynb\n",
    "- [x] Examine Return for the **HLG31perc: EmpCost results (revisited)**: http://newfe-s18.jc.itginc.com:8888/notebooks/projects/P5AlgoCostPrediction/ji_algoDB_CostPredict_HLG_31perc_Mar12.ipynb\n",
    "- **Definitions**:\n",
    "    - From the AlgoDB:\n",
    "        - sign[7]: 1 for BUY, -1 for SELL\n",
    "        - relSize[28]: Def: $relSize = 100 \\times \\frac{dollSize}{MDDV}$\n",
    "        - MDDV[32]: median daily dollar volume from FE DCTM daily file (**in millions**)\n",
    "        - histVola[34]: FE DTCM daily file\n",
    "        - aggExSharesForBin[54]: stored as $ExShareForBin$\n",
    "        - aggExPricesForBin[55]: stored as $ExPriceForBin$\n",
    "        - aggFillNbrForBin[57]: stored as $FillNbrForBin$\n",
    "        \n",
    "    - DailyDOB (tickData/{iso}/DailyDOB/...): midQuote, LowPrice, HighPrice, vwap, spread, TradeWeightedSpread, shareVolume\n",
    "    - Historical (weights): \n",
    "        - $histVolaW$ (Volatility): /HistoricalFiles/IntradayVolatility/1.0/{iso}/volatilityFE_5min...\n",
    "        - $histVoluW$ (Volume): /HistoricalFiles/IntradayVolume/1.0/vwapFE_5min...\n",
    "    - Historical volume: $histVolu5min = MDDV \\times histVoluW$ **(in millions)**\n",
    "    - Historical volatility: $histVola5min = histVola \\times histVolaW$\n",
    "    - (nominal) $dollarVolume= \\frac{shareVolume \\times VWAP}{1000000}$ (in millions)\n",
    "    - (surprise) $surVolume=\\frac{dollarVolume}{historicalVolume5min}$\n",
    "    - Participation rate (proxy for \"size\"): $prate=\\min{(\\frac{execVol}{MktVol},1)}=prate=\\min{(\\frac{ExShareForBin}{shareVolume},1)}$ \n",
    "    - Empirical Cost: $EmpCost_j(o)=-1^{sign(o)} \\times \\frac{VWAP_j(o)-MQ_{j-1}}{MQ_{j-1}}=-1^{sign(o)} \\times \\frac{execPrice_j(o)-MQ_{j-1}}{MQ_{j-1}}$\n",
    "    - Normalized Style: $normStyle_j(o)=-1^{sign(o)} \\times \\frac{execPrice_j(o)-VWAP}{\\max{(maxP-minP,0.01)}*(1-prate)}$\n",
    "    - $Fcost_j(o)=-1^{sign(o)} \\times \\frac{0.5 \\times (MQ{j}-MQ_{j-1})}{MQ_{j-1}}$\n",
    "    - $Gcost_j(o)=-1^{sign(o)} \\times \\frac{VWAP{j}-0.5 \\times (MQ_{j-1}+MQ_{j})}{MQ_{j-1}}$\n",
    "    - Return (signed): $signedReturn_j(o)=-1^{sign(o)} \\times \\frac{MQ_j-MQ_{j-1}}{MQ_{j-1}} \\times 10000$\n",
    "    - Notional dollar values (for dollar-weighted averages): $dollValues=ExPriceForBin \\times ExShareForBin$\n",
    "    \n"
   ]
  },
  {
   "cell_type": "markdown",
   "metadata": {},
   "source": [
    "(March 18-22)\n",
    "- [x] Compute and evaluate the adjusted return, size and duration (Milan's email): http://newfe-s18.jc.itginc.com:8888/notebooks/projects/P5AlgoCostPrediction/ji_algoDB_examine_Return_HLG_31perc_20190313.ipynb\n",
    "- [x] Return analyses follow-up: looking at Return x Vola for the 1st trades: http://newfe-s18.jc.itginc.com:8888/notebooks/projects/P5AlgoCostPrediction/ji_algoDB_examine_Return_HLG_31perc_20190319.ipynb\n",
    "- [x] Analyze the ABD clusters (Cost and Return x Size): http://newfe-s18.jc.itginc.com:8888/notebooks/projects/P5AlgoCostPrediction/ji_ABD_examine_Return_HLG31perc_20190321.ipynb\n",
    "- Get vola predictions available with DyCE:\n",
    "    - [ ] Create the input file: http://newfe-s18.jc.itginc.com:8888/notebooks/projects/P5AlgoCostPrediction/ji_algoDB_create_inputPlan_HLG31perc_20190321.ipynb"
   ]
  },
  {
   "cell_type": "markdown",
   "metadata": {},
   "source": [
    "(March 25-29)\n",
    "\n",
    "- [x] **Step-0:HLG31perc** Generate df2go (UPTED): http://newfe-s18.jc.itginc.com:8888/notebooks/projects/P5AlgoCostPrediction/ji_algoDB_compute_Return_HLG_31perc_20190325.ipynb\n",
    "- [x] **Step-1:HLG31perc** Create the input plan for DyCE from algoDB: http://newfe-s18.jc.itginc.com:8888/notebooks/projects/P5AlgoCostPrediction/ji_algoDB_create_inputPlan_HLG31perc_20190321.ipynb\n",
    "- [x] **For Konstantin** Single script to create clusters, compute costs/returns and plot (for Konstantin): http://newfe-s18.jc.itginc.com:8888/notebooks/projects/P5AlgoCostPrediction/batch_loadComputePlot_CostReturn_AlgoDB_HLG_31perc.ipynb\n",
    "- [ ] **Step-2:HLG31perc**Load and examine volatility predictions from DyCE output (only **traded-bins included**): http://newfe-s18.jc.itginc.com:8888/notebooks/projects/P5AlgoCostPrediction/ji_AlgoDB_Examine_VolaPrediction_HLG31perc_20190326.ipynb\n",
    "- [ ] **Step-1:HLG31perc** Prepare inputfile for prediction in all the (78-6) bins, including non-traded bins: http://newfe-s18.jc.itginc.com:8888/notebooks/projects/P5AlgoCostPrediction/ji_algoDB_create_inputPlan_HLG31perc_allBins_20190327.ipynb\n"
   ]
  },
  {
   "cell_type": "markdown",
   "metadata": {},
   "source": [
    "(April 1-5)\n",
    "- [ ] **Step-2:HLG31perc**Load and examine volatility predictions from DyCE output (**all-bins included+follow-up Milan/Konstantin**): \n",
    "http://newfe-s18.jc.itginc.com:8888/notebooks/projects/P5AlgoCostPrediction/ji_AlgoDB_Examine_VolaPrediction_HLG31perc_allBins_0328.ipynb\n",
    "\n",
    "- [ ] **Step-0:All27perc** Creating a larger dataset including the non-scheduled ones as well: http://newfe-s18.jc.itginc.com:8888/notebooks/projects/P5AlgoCostPrediction/ji_algoDB_compute_CostReturn_All_20190327.ipynb\n",
    "- [x] **Step-1:All27perc** Create the input plan for DyCE from algoDB: http://newfe-s18.jc.itginc.com:8888/notebooks/projects/P5AlgoCostPrediction/ji_algoDB_create_inputPlan_ALL27perc_allBins_0328.ipynb\n",
    "- [ ] **(not started...)** Analyze All27perc dataset: http://newfe-s18.jc.itginc.com:8888/notebooks/projects/P5AlgoCostPrediction/ji_ABD_examine_Return_All27perc_20190327.ipynb\n",
    "- [x] **Step-0: Load and save clusters (ABD, all strategy)** Create http://newfe-s18.jc.itginc.com:8888/notebooks/projects/P5AlgoCostPrediction/ji_ABD_compute_CostReturn_AllStrat_20190329.ipynb\n",
    "- [x] **Step-1: Create and save input file (ABD, all strategy, allBins)** http://newfe-s18.jc.itginc.com:8888/notebooks/projects/P5AlgoCostPrediction/ji_ABD_create_inputPlan_HLGlarger_allBins_0329.ipynb\n",
    "- [x] **Step-1.5: Load engine output and generate prediction (df2plot)**: http://newfe-s18.jc.itginc.com:8888/notebooks/projects/P5AlgoCostPrediction/ji_ABD_generate_df2plot_VolaPrediction_HLGlarger_allBins_0401.ipynb\n",
    "- [ ] **Step-2: Analyze (ABD, all strategies, allBins)**: http://newfe-s18.jc.itginc.com:8888/notebooks/projects/P5AlgoCostPrediction/ji_ABD_Examine_VolaPrediction_HLGlarger_allStrat_20190403.ipynb"
   ]
  },
  {
   "cell_type": "markdown",
   "metadata": {},
   "source": [
    "(April 8-12)\n",
    "- [ ] **Steps0+1: Wrapper to load clusters, compute features, save df2go and input plan**: http://newfe-s18.jc.itginc.com:8888/notebooks/projects/P5AlgoCostPrediction/ji_ABD_wrapper_LoadCompute_df2go_inputplan_ALLStrat_20190404.ipynb"
   ]
  },
  {
   "cell_type": "markdown",
   "metadata": {},
   "source": [
    "(April 29- May 03)\n",
    "- [ ] Look at the Weekly report..."
   ]
  },
  {
   "cell_type": "markdown",
   "metadata": {},
   "source": [
    "## Pyro"
   ]
  },
  {
   "cell_type": "markdown",
   "metadata": {},
   "source": [
    "- 1) Install & Samples\n",
    "http://newfe-s18.jc.itginc.com:8888/notebooks/projects/ji_pyro_0_getStarted_Jan23.ipynb"
   ]
  },
  {
   "cell_type": "markdown",
   "metadata": {},
   "source": [
    "### ResAPI now available (KDB)\n",
    "http://newfe-s18.jc.itginc.com:8888/notebooks/projects/ResAPI_v20181207.ipynb"
   ]
  },
  {
   "cell_type": "code",
   "execution_count": null,
   "metadata": {},
   "outputs": [],
   "source": []
  }
 ],
 "metadata": {
  "kernelspec": {
   "display_name": "Python 3",
   "language": "python",
   "name": "python3"
  },
  "language_info": {
   "codemirror_mode": {
    "name": "ipython",
    "version": 3
   },
   "file_extension": ".py",
   "mimetype": "text/x-python",
   "name": "python",
   "nbconvert_exporter": "python",
   "pygments_lexer": "ipython3",
   "version": "3.6.5"
  }
 },
 "nbformat": 4,
 "nbformat_minor": 2
}
