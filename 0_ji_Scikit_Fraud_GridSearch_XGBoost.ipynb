{
 "cells": [
  {
   "cell_type": "markdown",
   "metadata": {},
   "source": [
    "# Case Study: Fraud Detection\n",
    "\n",
    "## Goals of this notebook:\n",
    "- Show the use of GridSearch for hyperparameter optimization\n",
    "- Run XGBoost: an efficient decision-tree boosting method\n"
   ]
  },
  {
   "cell_type": "code",
   "execution_count": 1,
   "metadata": {
    "collapsed": true
   },
   "outputs": [],
   "source": [
    "# Class to create Matlab-like structure\n",
    "class matlab_like():\n",
    "    pass"
   ]
  },
  {
   "cell_type": "markdown",
   "metadata": {},
   "source": [
    "## Context\n",
    "\n",
    "\n",
    "Ref: https://www.kaggle.com/mlg-ulb/creditcardfraud\n",
    "\n",
    "It is important that credit card companies are able to recognize fraudulent credit card transactions so that customers are not charged for items that they did not purchase.\n",
    "\n",
    "## Content\n",
    "\n",
    "The datasets contains transactions made by credit cards in September 2013 by european cardholders. This dataset presents transactions that occurred in two days, where we have 492 frauds out of 284,807 transactions. The dataset is highly unbalanced, the positive class (frauds) account for 0.172% of all transactions.\n",
    "\n",
    "It contains only numerical input variables which are the result of a PCA transformation. Unfortunately, due to confidentiality issues, we cannot provide the original features and more background information about the data. Features V1, V2, ... V28 are the principal components obtained with PCA, the only features which have not been transformed with PCA are 'Time' and 'Amount'. Feature 'Time' contains the seconds elapsed between each transaction and the first transaction in the dataset. The feature 'Amount' is the transaction Amount, this feature can be used for example-dependant cost-senstive learning. Feature 'Class' is the response variable and it takes value 1 in case of fraud and 0 otherwise.\n",
    "\n",
    "## Inspiration\n",
    "\n",
    "Identify fraudulent credit card transactions.\n",
    "\n",
    "Given the class imbalance ratio, we recommend measuring the accuracy using the Area Under the Precision-Recall Curve (AUPRC). Confusion matrix accuracy is not meaningful for unbalanced classification.\n",
    "\n",
    "## Acknowledgements\n",
    "\n",
    "The dataset has been collected and analysed during a research collaboration of Worldline and the Machine Learning Group (http://mlg.ulb.ac.be) of ULB (Université Libre de Bruxelles) on big data mining and fraud detection. More details on current and past projects on related topics are available on http://mlg.ulb.ac.be/BruFence and http://mlg.ulb.ac.be/ARTML\n",
    "\n",
    "Please cite: Andrea Dal Pozzolo, Olivier Caelen, Reid A. Johnson and Gianluca Bontempi. Calibrating Probability with Undersampling for Unbalanced Classification. In Symposium on Computational Intelligence and Data Mining (CIDM), IEEE, 2015"
   ]
  },
  {
   "cell_type": "markdown",
   "metadata": {},
   "source": [
    "## Library"
   ]
  },
  {
   "cell_type": "code",
   "execution_count": 2,
   "metadata": {
    "collapsed": true
   },
   "outputs": [],
   "source": [
    "import time\n",
    "import scipy.stats as stats\n",
    "import numpy as np\n",
    "import pandas as pd\n",
    "import tensorflow as tf\n",
    "import seaborn as sns\n",
    "import matplotlib.gridspec as gridspec\n",
    "\n",
    "from sklearn.preprocessing import StandardScaler # to normalize feats\n",
    "from sklearn.decomposition import PCA\n",
    "from sklearn.metrics import classification_report\n",
    "from imblearn.over_sampling import SMOTE\n",
    "from imblearn.over_sampling import ADASYN"
   ]
  },
  {
   "cell_type": "code",
   "execution_count": null,
   "metadata": {
    "collapsed": true
   },
   "outputs": [],
   "source": [
    "import numpy as np\n",
    "\n",
    "# Define my metrics\n",
    "def ji_get_metrics(C):\n",
    "    \"\"\"\n",
    "    C: ndarray, shape (2,2) as given by scikit-learn confusion_matrix function\n",
    "    \n",
    "    Good reading: http://stats.stackexchange.com/questions/49579/balanced-accuracy-vs-f-1-score\n",
    "    \n",
    "    \"\"\"\n",
    "    \n",
    "    allres = matlab_like()\n",
    "    \n",
    "    assert C.shape == (2,2), \"Confusion matrix should be from binary classification only.\"\n",
    "    \n",
    "    # true negative, false positive, etc...\n",
    "    tn = C[0,0]; fp = C[0,1]; fn = C[1,0]; tp = C[1,1]\n",
    "    NP = fn+tp # Num positive examples\n",
    "    NN = tn+fp # Num negative examples\n",
    "    N  = NP+NN\n",
    "    TPR = tp / (NP+0.) # Sensitivity or Recall_P\n",
    "    TNR = tn / (NN+0.) # Specificity or Recall_N\n",
    "    \n",
    "    print(' TN=%d, FP=%d'%(tn,fp))\n",
    "    print(' FN=%d, TP=%d'%(fn,tp))\n",
    "        \n",
    "    \n",
    "    precision = (tp/(tp+fp+0.)) # Precision_P\n",
    "    recall = TPR\n",
    "    \n",
    "    allres.C0 = TNR\n",
    "    allres.C1 = TPR\n",
    "    allres.Precision = precision\n",
    "    allres.Recall = recall\n",
    "    allres.BAcc = (TPR+TNR)/2 \n",
    "    allres.F1 = 2*((precision*recall)/(precision+recall))\n",
    "    \n",
    "    return allres"
   ]
  },
  {
   "cell_type": "code",
   "execution_count": 4,
   "metadata": {
    "collapsed": true
   },
   "outputs": [],
   "source": [
    "# Function to plot Confusion Matrix\n",
    "import itertools\n",
    "import matplotlib.pyplot as plt\n",
    "\n",
    "def plot_confusion_matrix(cm, classes,\n",
    "                          normalize=False,\n",
    "                          title='Confusion matrix',\n",
    "                          cmap=plt.cm.Blues):\n",
    "    \"\"\"\n",
    "    This function prints and plots the confusion matrix.\n",
    "    Normalization can be applied by setting `normalize=True`.\n",
    "    \"\"\"\n",
    "    plt.imshow(cm, interpolation='nearest', cmap=cmap)\n",
    "    plt.title(title)\n",
    "    plt.colorbar()\n",
    "    tick_marks = np.arange(len(classes))\n",
    "    plt.xticks(tick_marks, classes, rotation=0)\n",
    "    plt.yticks(tick_marks, classes)\n",
    "\n",
    "    if normalize:\n",
    "        cm = cm.astype('float') / cm.sum(axis=1)[:, np.newaxis]\n",
    "        #print(\"Normalized confusion matrix\")\n",
    "    else:\n",
    "        1#print('Confusion matrix, without normalization')\n",
    "\n",
    "    #print(cm)\n",
    "\n",
    "    thresh = cm.max() / 2.\n",
    "    for i, j in itertools.product(range(cm.shape[0]), range(cm.shape[1])):\n",
    "        plt.text(j, i, cm[i, j],\n",
    "                 horizontalalignment=\"center\",\n",
    "                 color=\"white\" if cm[i, j] > thresh else \"black\")\n",
    "\n",
    "    plt.tight_layout()\n",
    "    plt.ylabel('True label')\n",
    "    plt.xlabel('Predicted label')"
   ]
  },
  {
   "cell_type": "code",
   "execution_count": 5,
   "metadata": {
    "collapsed": true
   },
   "outputs": [],
   "source": [
    "# Standardize or normalize\n",
    "def ji_normalize(df,typeN,selectedCol):\n",
    "    # Return a normalized DF\n",
    "    # Use: dd = ji_normalize(df,'minmax',['colName'])\n",
    "\n",
    "    dfx = df.copy()\n",
    "    if selectedCol:\n",
    "        if typeN == 'minmax':\n",
    "            dfx[selectedCol] = dfx[selectedCol].apply(lambda x: (x - x.min()) / (x.max() - x.min()))\n",
    "        else:\n",
    "            dfx[selectedCol] = StandardScaler().fit_transform(dfx[selectedCol].values.reshape(-1, 1))\n",
    "    else:\n",
    "        allcols = dfx.columns\n",
    "        if typeN == 'minmax':\n",
    "            dfx[allcols] = dfx[allcols].apply(lambda x: (x - x.min()) / (x.max() - x.min()))\n",
    "        else:\n",
    "            dfx[allcols] = StandardScaler().fit_transform(dfx[allcols].values)\n",
    "        \n",
    "    return dfx\n",
    "    "
   ]
  },
  {
   "cell_type": "code",
   "execution_count": null,
   "metadata": {
    "collapsed": true
   },
   "outputs": [],
   "source": []
  },
  {
   "cell_type": "markdown",
   "metadata": {},
   "source": [
    "## Load the data set"
   ]
  },
  {
   "cell_type": "code",
   "execution_count": 6,
   "metadata": {
    "collapsed": false
   },
   "outputs": [
    {
     "data": {
      "text/html": [
       "<div>\n",
       "<style scoped>\n",
       "    .dataframe tbody tr th:only-of-type {\n",
       "        vertical-align: middle;\n",
       "    }\n",
       "\n",
       "    .dataframe tbody tr th {\n",
       "        vertical-align: top;\n",
       "    }\n",
       "\n",
       "    .dataframe thead th {\n",
       "        text-align: right;\n",
       "    }\n",
       "</style>\n",
       "<table border=\"1\" class=\"dataframe\">\n",
       "  <thead>\n",
       "    <tr style=\"text-align: right;\">\n",
       "      <th></th>\n",
       "      <th>Time</th>\n",
       "      <th>V1</th>\n",
       "      <th>V2</th>\n",
       "      <th>V3</th>\n",
       "      <th>V4</th>\n",
       "      <th>V5</th>\n",
       "      <th>V6</th>\n",
       "      <th>V7</th>\n",
       "      <th>V8</th>\n",
       "      <th>V9</th>\n",
       "      <th>...</th>\n",
       "      <th>V21</th>\n",
       "      <th>V22</th>\n",
       "      <th>V23</th>\n",
       "      <th>V24</th>\n",
       "      <th>V25</th>\n",
       "      <th>V26</th>\n",
       "      <th>V27</th>\n",
       "      <th>V28</th>\n",
       "      <th>Amount</th>\n",
       "      <th>Class</th>\n",
       "    </tr>\n",
       "  </thead>\n",
       "  <tbody>\n",
       "    <tr>\n",
       "      <th>0</th>\n",
       "      <td>0.0</td>\n",
       "      <td>-1.359807</td>\n",
       "      <td>-0.072781</td>\n",
       "      <td>2.536347</td>\n",
       "      <td>1.378155</td>\n",
       "      <td>-0.338321</td>\n",
       "      <td>0.462388</td>\n",
       "      <td>0.239599</td>\n",
       "      <td>0.098698</td>\n",
       "      <td>0.363787</td>\n",
       "      <td>...</td>\n",
       "      <td>-0.018307</td>\n",
       "      <td>0.277838</td>\n",
       "      <td>-0.110474</td>\n",
       "      <td>0.066928</td>\n",
       "      <td>0.128539</td>\n",
       "      <td>-0.189115</td>\n",
       "      <td>0.133558</td>\n",
       "      <td>-0.021053</td>\n",
       "      <td>149.62</td>\n",
       "      <td>0</td>\n",
       "    </tr>\n",
       "    <tr>\n",
       "      <th>1</th>\n",
       "      <td>0.0</td>\n",
       "      <td>1.191857</td>\n",
       "      <td>0.266151</td>\n",
       "      <td>0.166480</td>\n",
       "      <td>0.448154</td>\n",
       "      <td>0.060018</td>\n",
       "      <td>-0.082361</td>\n",
       "      <td>-0.078803</td>\n",
       "      <td>0.085102</td>\n",
       "      <td>-0.255425</td>\n",
       "      <td>...</td>\n",
       "      <td>-0.225775</td>\n",
       "      <td>-0.638672</td>\n",
       "      <td>0.101288</td>\n",
       "      <td>-0.339846</td>\n",
       "      <td>0.167170</td>\n",
       "      <td>0.125895</td>\n",
       "      <td>-0.008983</td>\n",
       "      <td>0.014724</td>\n",
       "      <td>2.69</td>\n",
       "      <td>0</td>\n",
       "    </tr>\n",
       "    <tr>\n",
       "      <th>2</th>\n",
       "      <td>1.0</td>\n",
       "      <td>-1.358354</td>\n",
       "      <td>-1.340163</td>\n",
       "      <td>1.773209</td>\n",
       "      <td>0.379780</td>\n",
       "      <td>-0.503198</td>\n",
       "      <td>1.800499</td>\n",
       "      <td>0.791461</td>\n",
       "      <td>0.247676</td>\n",
       "      <td>-1.514654</td>\n",
       "      <td>...</td>\n",
       "      <td>0.247998</td>\n",
       "      <td>0.771679</td>\n",
       "      <td>0.909412</td>\n",
       "      <td>-0.689281</td>\n",
       "      <td>-0.327642</td>\n",
       "      <td>-0.139097</td>\n",
       "      <td>-0.055353</td>\n",
       "      <td>-0.059752</td>\n",
       "      <td>378.66</td>\n",
       "      <td>0</td>\n",
       "    </tr>\n",
       "    <tr>\n",
       "      <th>3</th>\n",
       "      <td>1.0</td>\n",
       "      <td>-0.966272</td>\n",
       "      <td>-0.185226</td>\n",
       "      <td>1.792993</td>\n",
       "      <td>-0.863291</td>\n",
       "      <td>-0.010309</td>\n",
       "      <td>1.247203</td>\n",
       "      <td>0.237609</td>\n",
       "      <td>0.377436</td>\n",
       "      <td>-1.387024</td>\n",
       "      <td>...</td>\n",
       "      <td>-0.108300</td>\n",
       "      <td>0.005274</td>\n",
       "      <td>-0.190321</td>\n",
       "      <td>-1.175575</td>\n",
       "      <td>0.647376</td>\n",
       "      <td>-0.221929</td>\n",
       "      <td>0.062723</td>\n",
       "      <td>0.061458</td>\n",
       "      <td>123.50</td>\n",
       "      <td>0</td>\n",
       "    </tr>\n",
       "    <tr>\n",
       "      <th>4</th>\n",
       "      <td>2.0</td>\n",
       "      <td>-1.158233</td>\n",
       "      <td>0.877737</td>\n",
       "      <td>1.548718</td>\n",
       "      <td>0.403034</td>\n",
       "      <td>-0.407193</td>\n",
       "      <td>0.095921</td>\n",
       "      <td>0.592941</td>\n",
       "      <td>-0.270533</td>\n",
       "      <td>0.817739</td>\n",
       "      <td>...</td>\n",
       "      <td>-0.009431</td>\n",
       "      <td>0.798278</td>\n",
       "      <td>-0.137458</td>\n",
       "      <td>0.141267</td>\n",
       "      <td>-0.206010</td>\n",
       "      <td>0.502292</td>\n",
       "      <td>0.219422</td>\n",
       "      <td>0.215153</td>\n",
       "      <td>69.99</td>\n",
       "      <td>0</td>\n",
       "    </tr>\n",
       "  </tbody>\n",
       "</table>\n",
       "<p>5 rows × 31 columns</p>\n",
       "</div>"
      ],
      "text/plain": [
       "   Time        V1        V2        V3        V4        V5        V6        V7  \\\n",
       "0   0.0 -1.359807 -0.072781  2.536347  1.378155 -0.338321  0.462388  0.239599   \n",
       "1   0.0  1.191857  0.266151  0.166480  0.448154  0.060018 -0.082361 -0.078803   \n",
       "2   1.0 -1.358354 -1.340163  1.773209  0.379780 -0.503198  1.800499  0.791461   \n",
       "3   1.0 -0.966272 -0.185226  1.792993 -0.863291 -0.010309  1.247203  0.237609   \n",
       "4   2.0 -1.158233  0.877737  1.548718  0.403034 -0.407193  0.095921  0.592941   \n",
       "\n",
       "         V8        V9  ...         V21       V22       V23       V24  \\\n",
       "0  0.098698  0.363787  ...   -0.018307  0.277838 -0.110474  0.066928   \n",
       "1  0.085102 -0.255425  ...   -0.225775 -0.638672  0.101288 -0.339846   \n",
       "2  0.247676 -1.514654  ...    0.247998  0.771679  0.909412 -0.689281   \n",
       "3  0.377436 -1.387024  ...   -0.108300  0.005274 -0.190321 -1.175575   \n",
       "4 -0.270533  0.817739  ...   -0.009431  0.798278 -0.137458  0.141267   \n",
       "\n",
       "        V25       V26       V27       V28  Amount  Class  \n",
       "0  0.128539 -0.189115  0.133558 -0.021053  149.62      0  \n",
       "1  0.167170  0.125895 -0.008983  0.014724    2.69      0  \n",
       "2 -0.327642 -0.139097 -0.055353 -0.059752  378.66      0  \n",
       "3  0.647376 -0.221929  0.062723  0.061458  123.50      0  \n",
       "4 -0.206010  0.502292  0.219422  0.215153   69.99      0  \n",
       "\n",
       "[5 rows x 31 columns]"
      ]
     },
     "execution_count": 6,
     "metadata": {},
     "output_type": "execute_result"
    }
   ],
   "source": [
    "# 1) Import data\n",
    "df = pd.read_csv(\"0_data/creditcard.csv\")\n",
    "df.head() # notice that the features are anonymized"
   ]
  },
  {
   "cell_type": "code",
   "execution_count": 7,
   "metadata": {
    "collapsed": true
   },
   "outputs": [],
   "source": [
    "# If you want to alter/categorize or fix a particular categorical variable (not the case here...)\n",
    "def val_update(val):\n",
    "    if val<0:\n",
    "        return 0\n",
    "    else:\n",
    "        return 1\n",
    "#aux = df['V1'].apply(val_update)\n",
    "#aux.head()"
   ]
  },
  {
   "cell_type": "code",
   "execution_count": 8,
   "metadata": {
    "collapsed": true
   },
   "outputs": [],
   "source": [
    "# Check if there are missing values \n",
    "# --> NO!\n",
    "#df.isnull().sum()"
   ]
  },
  {
   "cell_type": "code",
   "execution_count": 9,
   "metadata": {
    "collapsed": false
   },
   "outputs": [
    {
     "data": {
      "text/html": [
       "<div>\n",
       "<style scoped>\n",
       "    .dataframe tbody tr th:only-of-type {\n",
       "        vertical-align: middle;\n",
       "    }\n",
       "\n",
       "    .dataframe tbody tr th {\n",
       "        vertical-align: top;\n",
       "    }\n",
       "\n",
       "    .dataframe thead th {\n",
       "        text-align: right;\n",
       "    }\n",
       "</style>\n",
       "<table border=\"1\" class=\"dataframe\">\n",
       "  <thead>\n",
       "    <tr style=\"text-align: right;\">\n",
       "      <th></th>\n",
       "      <th>Time</th>\n",
       "      <th>V1</th>\n",
       "      <th>V2</th>\n",
       "      <th>V3</th>\n",
       "      <th>V4</th>\n",
       "      <th>V5</th>\n",
       "      <th>V6</th>\n",
       "      <th>V7</th>\n",
       "      <th>V8</th>\n",
       "      <th>V9</th>\n",
       "      <th>...</th>\n",
       "      <th>V21</th>\n",
       "      <th>V22</th>\n",
       "      <th>V23</th>\n",
       "      <th>V24</th>\n",
       "      <th>V25</th>\n",
       "      <th>V26</th>\n",
       "      <th>V27</th>\n",
       "      <th>V28</th>\n",
       "      <th>Amount</th>\n",
       "      <th>Class</th>\n",
       "    </tr>\n",
       "  </thead>\n",
       "  <tbody>\n",
       "    <tr>\n",
       "      <th>count</th>\n",
       "      <td>284807.000000</td>\n",
       "      <td>2.848070e+05</td>\n",
       "      <td>2.848070e+05</td>\n",
       "      <td>2.848070e+05</td>\n",
       "      <td>2.848070e+05</td>\n",
       "      <td>2.848070e+05</td>\n",
       "      <td>2.848070e+05</td>\n",
       "      <td>2.848070e+05</td>\n",
       "      <td>2.848070e+05</td>\n",
       "      <td>2.848070e+05</td>\n",
       "      <td>...</td>\n",
       "      <td>2.848070e+05</td>\n",
       "      <td>2.848070e+05</td>\n",
       "      <td>2.848070e+05</td>\n",
       "      <td>2.848070e+05</td>\n",
       "      <td>2.848070e+05</td>\n",
       "      <td>2.848070e+05</td>\n",
       "      <td>2.848070e+05</td>\n",
       "      <td>2.848070e+05</td>\n",
       "      <td>284807.000000</td>\n",
       "      <td>284807.000000</td>\n",
       "    </tr>\n",
       "    <tr>\n",
       "      <th>mean</th>\n",
       "      <td>94813.859575</td>\n",
       "      <td>3.919560e-15</td>\n",
       "      <td>5.688174e-16</td>\n",
       "      <td>-8.769071e-15</td>\n",
       "      <td>2.782312e-15</td>\n",
       "      <td>-1.552563e-15</td>\n",
       "      <td>2.010663e-15</td>\n",
       "      <td>-1.694249e-15</td>\n",
       "      <td>-1.927028e-16</td>\n",
       "      <td>-3.137024e-15</td>\n",
       "      <td>...</td>\n",
       "      <td>1.537294e-16</td>\n",
       "      <td>7.959909e-16</td>\n",
       "      <td>5.367590e-16</td>\n",
       "      <td>4.458112e-15</td>\n",
       "      <td>1.453003e-15</td>\n",
       "      <td>1.699104e-15</td>\n",
       "      <td>-3.660161e-16</td>\n",
       "      <td>-1.206049e-16</td>\n",
       "      <td>88.349619</td>\n",
       "      <td>0.001727</td>\n",
       "    </tr>\n",
       "    <tr>\n",
       "      <th>std</th>\n",
       "      <td>47488.145955</td>\n",
       "      <td>1.958696e+00</td>\n",
       "      <td>1.651309e+00</td>\n",
       "      <td>1.516255e+00</td>\n",
       "      <td>1.415869e+00</td>\n",
       "      <td>1.380247e+00</td>\n",
       "      <td>1.332271e+00</td>\n",
       "      <td>1.237094e+00</td>\n",
       "      <td>1.194353e+00</td>\n",
       "      <td>1.098632e+00</td>\n",
       "      <td>...</td>\n",
       "      <td>7.345240e-01</td>\n",
       "      <td>7.257016e-01</td>\n",
       "      <td>6.244603e-01</td>\n",
       "      <td>6.056471e-01</td>\n",
       "      <td>5.212781e-01</td>\n",
       "      <td>4.822270e-01</td>\n",
       "      <td>4.036325e-01</td>\n",
       "      <td>3.300833e-01</td>\n",
       "      <td>250.120109</td>\n",
       "      <td>0.041527</td>\n",
       "    </tr>\n",
       "    <tr>\n",
       "      <th>min</th>\n",
       "      <td>0.000000</td>\n",
       "      <td>-5.640751e+01</td>\n",
       "      <td>-7.271573e+01</td>\n",
       "      <td>-4.832559e+01</td>\n",
       "      <td>-5.683171e+00</td>\n",
       "      <td>-1.137433e+02</td>\n",
       "      <td>-2.616051e+01</td>\n",
       "      <td>-4.355724e+01</td>\n",
       "      <td>-7.321672e+01</td>\n",
       "      <td>-1.343407e+01</td>\n",
       "      <td>...</td>\n",
       "      <td>-3.483038e+01</td>\n",
       "      <td>-1.093314e+01</td>\n",
       "      <td>-4.480774e+01</td>\n",
       "      <td>-2.836627e+00</td>\n",
       "      <td>-1.029540e+01</td>\n",
       "      <td>-2.604551e+00</td>\n",
       "      <td>-2.256568e+01</td>\n",
       "      <td>-1.543008e+01</td>\n",
       "      <td>0.000000</td>\n",
       "      <td>0.000000</td>\n",
       "    </tr>\n",
       "    <tr>\n",
       "      <th>25%</th>\n",
       "      <td>54201.500000</td>\n",
       "      <td>-9.203734e-01</td>\n",
       "      <td>-5.985499e-01</td>\n",
       "      <td>-8.903648e-01</td>\n",
       "      <td>-8.486401e-01</td>\n",
       "      <td>-6.915971e-01</td>\n",
       "      <td>-7.682956e-01</td>\n",
       "      <td>-5.540759e-01</td>\n",
       "      <td>-2.086297e-01</td>\n",
       "      <td>-6.430976e-01</td>\n",
       "      <td>...</td>\n",
       "      <td>-2.283949e-01</td>\n",
       "      <td>-5.423504e-01</td>\n",
       "      <td>-1.618463e-01</td>\n",
       "      <td>-3.545861e-01</td>\n",
       "      <td>-3.171451e-01</td>\n",
       "      <td>-3.269839e-01</td>\n",
       "      <td>-7.083953e-02</td>\n",
       "      <td>-5.295979e-02</td>\n",
       "      <td>5.600000</td>\n",
       "      <td>0.000000</td>\n",
       "    </tr>\n",
       "    <tr>\n",
       "      <th>50%</th>\n",
       "      <td>84692.000000</td>\n",
       "      <td>1.810880e-02</td>\n",
       "      <td>6.548556e-02</td>\n",
       "      <td>1.798463e-01</td>\n",
       "      <td>-1.984653e-02</td>\n",
       "      <td>-5.433583e-02</td>\n",
       "      <td>-2.741871e-01</td>\n",
       "      <td>4.010308e-02</td>\n",
       "      <td>2.235804e-02</td>\n",
       "      <td>-5.142873e-02</td>\n",
       "      <td>...</td>\n",
       "      <td>-2.945017e-02</td>\n",
       "      <td>6.781943e-03</td>\n",
       "      <td>-1.119293e-02</td>\n",
       "      <td>4.097606e-02</td>\n",
       "      <td>1.659350e-02</td>\n",
       "      <td>-5.213911e-02</td>\n",
       "      <td>1.342146e-03</td>\n",
       "      <td>1.124383e-02</td>\n",
       "      <td>22.000000</td>\n",
       "      <td>0.000000</td>\n",
       "    </tr>\n",
       "    <tr>\n",
       "      <th>75%</th>\n",
       "      <td>139320.500000</td>\n",
       "      <td>1.315642e+00</td>\n",
       "      <td>8.037239e-01</td>\n",
       "      <td>1.027196e+00</td>\n",
       "      <td>7.433413e-01</td>\n",
       "      <td>6.119264e-01</td>\n",
       "      <td>3.985649e-01</td>\n",
       "      <td>5.704361e-01</td>\n",
       "      <td>3.273459e-01</td>\n",
       "      <td>5.971390e-01</td>\n",
       "      <td>...</td>\n",
       "      <td>1.863772e-01</td>\n",
       "      <td>5.285536e-01</td>\n",
       "      <td>1.476421e-01</td>\n",
       "      <td>4.395266e-01</td>\n",
       "      <td>3.507156e-01</td>\n",
       "      <td>2.409522e-01</td>\n",
       "      <td>9.104512e-02</td>\n",
       "      <td>7.827995e-02</td>\n",
       "      <td>77.165000</td>\n",
       "      <td>0.000000</td>\n",
       "    </tr>\n",
       "    <tr>\n",
       "      <th>max</th>\n",
       "      <td>172792.000000</td>\n",
       "      <td>2.454930e+00</td>\n",
       "      <td>2.205773e+01</td>\n",
       "      <td>9.382558e+00</td>\n",
       "      <td>1.687534e+01</td>\n",
       "      <td>3.480167e+01</td>\n",
       "      <td>7.330163e+01</td>\n",
       "      <td>1.205895e+02</td>\n",
       "      <td>2.000721e+01</td>\n",
       "      <td>1.559499e+01</td>\n",
       "      <td>...</td>\n",
       "      <td>2.720284e+01</td>\n",
       "      <td>1.050309e+01</td>\n",
       "      <td>2.252841e+01</td>\n",
       "      <td>4.584549e+00</td>\n",
       "      <td>7.519589e+00</td>\n",
       "      <td>3.517346e+00</td>\n",
       "      <td>3.161220e+01</td>\n",
       "      <td>3.384781e+01</td>\n",
       "      <td>25691.160000</td>\n",
       "      <td>1.000000</td>\n",
       "    </tr>\n",
       "  </tbody>\n",
       "</table>\n",
       "<p>8 rows × 31 columns</p>\n",
       "</div>"
      ],
      "text/plain": [
       "                Time            V1            V2            V3            V4  \\\n",
       "count  284807.000000  2.848070e+05  2.848070e+05  2.848070e+05  2.848070e+05   \n",
       "mean    94813.859575  3.919560e-15  5.688174e-16 -8.769071e-15  2.782312e-15   \n",
       "std     47488.145955  1.958696e+00  1.651309e+00  1.516255e+00  1.415869e+00   \n",
       "min         0.000000 -5.640751e+01 -7.271573e+01 -4.832559e+01 -5.683171e+00   \n",
       "25%     54201.500000 -9.203734e-01 -5.985499e-01 -8.903648e-01 -8.486401e-01   \n",
       "50%     84692.000000  1.810880e-02  6.548556e-02  1.798463e-01 -1.984653e-02   \n",
       "75%    139320.500000  1.315642e+00  8.037239e-01  1.027196e+00  7.433413e-01   \n",
       "max    172792.000000  2.454930e+00  2.205773e+01  9.382558e+00  1.687534e+01   \n",
       "\n",
       "                 V5            V6            V7            V8            V9  \\\n",
       "count  2.848070e+05  2.848070e+05  2.848070e+05  2.848070e+05  2.848070e+05   \n",
       "mean  -1.552563e-15  2.010663e-15 -1.694249e-15 -1.927028e-16 -3.137024e-15   \n",
       "std    1.380247e+00  1.332271e+00  1.237094e+00  1.194353e+00  1.098632e+00   \n",
       "min   -1.137433e+02 -2.616051e+01 -4.355724e+01 -7.321672e+01 -1.343407e+01   \n",
       "25%   -6.915971e-01 -7.682956e-01 -5.540759e-01 -2.086297e-01 -6.430976e-01   \n",
       "50%   -5.433583e-02 -2.741871e-01  4.010308e-02  2.235804e-02 -5.142873e-02   \n",
       "75%    6.119264e-01  3.985649e-01  5.704361e-01  3.273459e-01  5.971390e-01   \n",
       "max    3.480167e+01  7.330163e+01  1.205895e+02  2.000721e+01  1.559499e+01   \n",
       "\n",
       "           ...                 V21           V22           V23           V24  \\\n",
       "count      ...        2.848070e+05  2.848070e+05  2.848070e+05  2.848070e+05   \n",
       "mean       ...        1.537294e-16  7.959909e-16  5.367590e-16  4.458112e-15   \n",
       "std        ...        7.345240e-01  7.257016e-01  6.244603e-01  6.056471e-01   \n",
       "min        ...       -3.483038e+01 -1.093314e+01 -4.480774e+01 -2.836627e+00   \n",
       "25%        ...       -2.283949e-01 -5.423504e-01 -1.618463e-01 -3.545861e-01   \n",
       "50%        ...       -2.945017e-02  6.781943e-03 -1.119293e-02  4.097606e-02   \n",
       "75%        ...        1.863772e-01  5.285536e-01  1.476421e-01  4.395266e-01   \n",
       "max        ...        2.720284e+01  1.050309e+01  2.252841e+01  4.584549e+00   \n",
       "\n",
       "                V25           V26           V27           V28         Amount  \\\n",
       "count  2.848070e+05  2.848070e+05  2.848070e+05  2.848070e+05  284807.000000   \n",
       "mean   1.453003e-15  1.699104e-15 -3.660161e-16 -1.206049e-16      88.349619   \n",
       "std    5.212781e-01  4.822270e-01  4.036325e-01  3.300833e-01     250.120109   \n",
       "min   -1.029540e+01 -2.604551e+00 -2.256568e+01 -1.543008e+01       0.000000   \n",
       "25%   -3.171451e-01 -3.269839e-01 -7.083953e-02 -5.295979e-02       5.600000   \n",
       "50%    1.659350e-02 -5.213911e-02  1.342146e-03  1.124383e-02      22.000000   \n",
       "75%    3.507156e-01  2.409522e-01  9.104512e-02  7.827995e-02      77.165000   \n",
       "max    7.519589e+00  3.517346e+00  3.161220e+01  3.384781e+01   25691.160000   \n",
       "\n",
       "               Class  \n",
       "count  284807.000000  \n",
       "mean        0.001727  \n",
       "std         0.041527  \n",
       "min         0.000000  \n",
       "25%         0.000000  \n",
       "50%         0.000000  \n",
       "75%         0.000000  \n",
       "max         1.000000  \n",
       "\n",
       "[8 rows x 31 columns]"
      ]
     },
     "execution_count": 9,
     "metadata": {},
     "output_type": "execute_result"
    }
   ],
   "source": [
    "# Original data to keep:\n",
    "df.describe()"
   ]
  },
  {
   "cell_type": "markdown",
   "metadata": {},
   "source": [
    "## Prepare training & validation & testing"
   ]
  },
  {
   "cell_type": "code",
   "execution_count": 10,
   "metadata": {
    "collapsed": false
   },
   "outputs": [
    {
     "name": "stdout",
     "output_type": "stream",
     "text": [
      "Train+Validation:(199364, 30), Test:(85443, 30)\n",
      "Index,Train: [ 39873  39874  39875 ..., 199361 199362 199363]|Valid: [    0     1     2 ..., 39870 39871 39872]\n",
      "Index,Train: [     0      1      2 ..., 199361 199362 199363]|Valid: [39873 39874 39875 ..., 79743 79744 79745]\n",
      "Index,Train: [     0      1      2 ..., 199361 199362 199363]|Valid: [ 79746  79747  79748 ..., 119616 119617 119618]\n",
      "Index,Train: [     0      1      2 ..., 199361 199362 199363]|Valid: [119619 119620 119621 ..., 159489 159490 159491]\n",
      "Index,Train: [     0      1      2 ..., 159489 159490 159491]|Valid: [159492 159493 159494 ..., 199361 199362 199363]\n",
      "\n",
      "** Train+Validation Data **\n",
      "Percentage of normal transactions: 0.9983 (n=199016)\n",
      "Percentage of fraud transactions: 0.0017 (n=348)\n",
      "Total number of transactions in resampled data: 199364\n",
      "\n",
      "** Test Data **\n",
      "Percentage of normal transactions: 0.9983 (n=85299)\n",
      "Percentage of fraud transactions: 0.0017 (n=144)\n",
      "Total number of transactions in resampled data: 85443\n"
     ]
    }
   ],
   "source": [
    "# ORIGINAL DATA\n",
    "# - df\n",
    "# - x_data\n",
    "# - y_labels\n",
    "\n",
    "# 2) Prepare the learning\n",
    "from sklearn.model_selection import train_test_split\n",
    "from sklearn.model_selection import KFold\n",
    "from sklearn.model_selection import StratifiedKFold\n",
    "\n",
    "x_data = df.drop('Class',axis=1)\n",
    "y_labels = df['Class']\n",
    "y_names = ['Normal','Fraud']\n",
    "\n",
    "X_train, X_test, y_train, y_test = train_test_split(x_data,y_labels,test_size=0.3,random_state=101)\n",
    "\n",
    "print('Train+Validation:%s, Test:%s'%(X_train.shape,X_test.shape))\n",
    "\n",
    "# 2.a) Random Cross Validation (10-folds)\n",
    "k_3folds = KFold(n_splits=3,random_state=101)\n",
    "k_5folds = KFold(n_splits=5,random_state=101)\n",
    "k_10folds = KFold(n_splits=10,random_state=101)\n",
    "for train_indices, validation_indices in k_5folds.split(X_train):\n",
    "     print('Index,Train: %s|Valid: %s' % (train_indices, validation_indices))\n",
    "\n",
    "# 2.b) Stratified Cross Validation (10-folds) - distributed based on labels\n",
    "sk_3folds = StratifiedKFold(n_splits=3, random_state=101)\n",
    "sk_5folds = StratifiedKFold(n_splits=5, random_state=101)\n",
    "sk_10folds = StratifiedKFold(n_splits=10, random_state=101)\n",
    "\n",
    "# Showing ratio\n",
    "dfaux = y_train\n",
    "print(\"\")\n",
    "print(\"** Train+Validation Data **\")\n",
    "print(\"Percentage of normal transactions: %1.4f (n=%d)\"%(len(dfaux[dfaux == 0])/float(len(dfaux)),len(dfaux[dfaux == 0])))\n",
    "print(\"Percentage of fraud transactions: %1.4f (n=%d)\"%(len(dfaux[dfaux == 1])/float(len(dfaux)),len(dfaux[dfaux == 1])))\n",
    "print(\"Total number of transactions in resampled data: %d\"%(len(dfaux)))\n",
    "# Showing ratio\n",
    "dfaux = y_test\n",
    "print(\"\")\n",
    "print(\"** Test Data **\")\n",
    "print(\"Percentage of normal transactions: %1.4f (n=%d)\"%(len(dfaux[dfaux == 0])/float(len(dfaux)),len(dfaux[dfaux == 0])))\n",
    "print(\"Percentage of fraud transactions: %1.4f (n=%d)\"%(len(dfaux[dfaux == 1])/float(len(dfaux)),len(dfaux[dfaux == 1])))\n",
    "print(\"Total number of transactions in resampled data: %d\"%(len(dfaux)))"
   ]
  },
  {
   "cell_type": "markdown",
   "metadata": {
    "collapsed": true
   },
   "source": [
    "## Dealing with Imbalanced Data: Sampling Approach\n",
    "\n",
    "**OBS**: Here, we have to be careful to not use the test for the sampling purpose... otherwise, we will already use the class information. Thus, the correct thing to do is a Sampling on the training data solely, leaving the test data completely apart"
   ]
  },
  {
   "cell_type": "markdown",
   "metadata": {},
   "source": [
    "### 1) Undersampling: create dataset with proportional train/test"
   ]
  },
  {
   "cell_type": "code",
   "execution_count": 11,
   "metadata": {
    "collapsed": false
   },
   "outputs": [
    {
     "name": "stdout",
     "output_type": "stream",
     "text": [
      "Percentage of normal transactions: 0.50 (n=348)\n",
      "Percentage of fraud transactions: 0.50 (n=348)\n",
      "Total number of transactions in resampled data: 696\n"
     ]
    }
   ],
   "source": [
    "# Set data to undersample. The example used the whole data, but maybe this is not correct...\n",
    "#datax = pd.concat([x_data,y_labels],axis=1) # This would use the whole data including Test... (maybe it is OK)\n",
    "datax0 = pd.concat([x_data,y_labels],axis=1) # ORIGINAL DATA\n",
    "datax = pd.concat([X_train,y_train],axis=1) #\n",
    "\n",
    "# Number of data points in the minority class\n",
    "number_records_fraud = len(datax[datax.Class == 1])\n",
    "fraud_indices = np.array(datax[datax.Class == 1].index)\n",
    "\n",
    "# Picking the indices of the normal classes\n",
    "normal_indices = datax[datax.Class == 0].index\n",
    "\n",
    "# Out of the indices we picked, randomly select \"x\" number (number_records_fraud)\n",
    "random_normal_indices = np.random.choice(normal_indices, number_records_fraud, replace = False)\n",
    "random_normal_indices = np.array(random_normal_indices)\n",
    "\n",
    "# Appending the 2 indices\n",
    "under_sample_indices = np.concatenate([fraud_indices,random_normal_indices])\n",
    "\n",
    "# Under sample dataset\n",
    "under_sampled_data = datax0.iloc[under_sample_indices,:]\n",
    "under_sampled_data_shuffled = under_sampled_data.sample(frac=1) # shuffle data to use for train/test\n",
    "\n",
    "X_undersampled = under_sampled_data_shuffled.loc[:, under_sampled_data_shuffled.columns != 'Class'] # Do not use direct to train/test...\n",
    "y_undersampled = under_sampled_data_shuffled.loc[:, under_sampled_data_shuffled.columns == 'Class']\n",
    "# Convert to Series (JI)\n",
    "y_undersampled = y_undersampled.iloc[:,0]\n",
    "\n",
    "# Showing ratio\n",
    "aux0 = len(under_sampled_data[under_sampled_data.Class == 0])\n",
    "aux1 = len(under_sampled_data[under_sampled_data.Class == 1])\n",
    "print(\"Percentage of normal transactions: %1.2f (n=%d)\"%(aux0/float(len(under_sampled_data)),aux0))\n",
    "print(\"Percentage of fraud transactions: %1.2f (n=%d)\"%(aux1/float(len(under_sampled_data)),aux1))\n",
    "print(\"Total number of transactions in resampled data: %d\"%(len(under_sampled_data)))\n",
    "\n",
    "# # Split into Train and Validation data sets\n",
    "# #from sklearn.cross_validation import train_test_split\n",
    "# from sklearn.model_selection import train_test_split\n",
    "\n",
    "# # Undersampled dataset\n",
    "# X_train_undersampled, X_test_undersampled, y_train_undersampled, y_test_undersampled = \\\n",
    "#                train_test_split(X_undersampled,y_undersampled,test_size = 0.3,random_state = 0)\n",
    "# print(\"\")\n",
    "# print(\"Number transactions train dataset: \", len(X_train_undersampled))\n",
    "# print(\"Number transactions validation dataset: \", len(X_test_undersampled))\n",
    "# print(\"Total number of transactions: \", len(X_train_undersampled)+len(X_test_undersampled))"
   ]
  },
  {
   "cell_type": "markdown",
   "metadata": {},
   "source": [
    "### 2) SMOTE: Synthetic Minority Oversampling"
   ]
  },
  {
   "cell_type": "code",
   "execution_count": 12,
   "metadata": {
    "collapsed": false
   },
   "outputs": [
    {
     "name": "stdout",
     "output_type": "stream",
     "text": [
      "Applied SMOTE: y_train old_size=199364 (#fraud=348), new_size=398032 (#fraud=199016)\n",
      "Applied SMOTE (borderline): y_train old_size=199364 (#fraud=348), new_size=398032 (#fraud=199016)\n"
     ]
    }
   ],
   "source": [
    "# SMOTE (Ide, ICPR 2016)\n",
    "# Check: - ji_Example_Nice_ML_Framework.ipynb\n",
    "#        - ji_example_SMOTE.ipynb\n",
    "\n",
    "from imblearn.over_sampling import SMOTE\n",
    "from imblearn.over_sampling import ADASYN\n",
    "\n",
    "# SMOTE and others..\n",
    "\n",
    "# a) Standard SMOTE\n",
    "sm = SMOTE(kind='regular',random_state=101)\n",
    "X_train_SMOTE, y_train_SMOTE = sm.fit_sample(X_train, y_train)\n",
    "print('Applied SMOTE: y_train old_size=%d (#fraud=%d), new_size=%d (#fraud=%d)'%(len(y_train),len(y_train[y_train==1]),len(y_train_SMOTE),len(y_train_SMOTE[y_train_SMOTE==1])))\n",
    "X_train_SMOTE = pd.DataFrame(X_train_SMOTE,columns=X_train.columns)\n",
    "y_train_SMOTE = pd.Series(y_train_SMOTE)\n",
    "# Shuffle data\n",
    "iprm = np.random.permutation(len(y_train_SMOTE))\n",
    "X_train_SMOTE = X_train_SMOTE.iloc[iprm]\n",
    "y_train_SMOTE = y_train_SMOTE.iloc[iprm]\n",
    "\n",
    "# b) Borderline SMOTE\n",
    "sm = SMOTE(kind='borderline2',random_state=101) # \n",
    "X_train_SMOTE2, y_train_SMOTE2 = sm.fit_sample(X_train, y_train)\n",
    "print('Applied SMOTE (borderline): y_train old_size=%d (#fraud=%d), new_size=%d (#fraud=%d)'%(len(y_train),len(y_train[y_train==1]),len(y_train_SMOTE2),len(y_train_SMOTE2[y_train_SMOTE2==1])))\n",
    "X_train_SMOTE2 = pd.DataFrame(X_train_SMOTE2,columns=X_train.columns)\n",
    "y_train_SMOTE2 = pd.Series(y_train_SMOTE2)\n",
    "# Shuffle data\n",
    "iprm = np.random.permutation(len(y_train_SMOTE2))\n",
    "X_train_SMOTE2 = X_train_SMOTE2.iloc[iprm]\n",
    "y_train_SMOTE2 = y_train_SMOTE2.iloc[iprm]\n",
    "\n",
    "#sm = SMOTE(kind='svm')\n",
    "# c) ADASYN\n",
    "#sm = ADASYN()\n"
   ]
  },
  {
   "cell_type": "markdown",
   "metadata": {},
   "source": [
    "## Feature Selection\n",
    "\n",
    "Ref: "
   ]
  },
  {
   "cell_type": "code",
   "execution_count": 13,
   "metadata": {
    "collapsed": true
   },
   "outputs": [],
   "source": [
    "# 1) Check correlation among feats \n",
    "# --> you can consider removing correlated feats, since it creates colinearity in regression-based approaches\n",
    "\n",
    "# Cross-correlation map of the features\n",
    "f,ax = plt.subplots(figsize=(20, 20))\n",
    "#sns.heatmap(X_train.corr(), annot=True, linewidths=.5, fmt= '.1f',ax=ax)"
   ]
  },
  {
   "cell_type": "code",
   "execution_count": 14,
   "metadata": {
    "collapsed": false
   },
   "outputs": [
    {
     "name": "stdout",
     "output_type": "stream",
     "text": [
      "Index(['V1', 'V2', 'V3', 'V4', 'V5', 'V7', 'V9', 'V10', 'V11', 'V12', 'V14',\n",
      "       'V16', 'V17', 'V18', 'V21'],\n",
      "      dtype='object')\n",
      "Index(['Time', 'V1', 'V2', 'V3', 'V4', 'V5', 'V7', 'V8', 'V10', 'V11', 'V12',\n",
      "       'V14', 'V16', 'V17', 'Amount'],\n",
      "      dtype='object')\n"
     ]
    }
   ],
   "source": [
    "# 2) Univariate feature selection\n",
    "# - In univariate feature selection, we will use SelectKBest that removes all but the k highest scoring features. \n",
    "# - http://scikit-learn.org/stable/modules/generated/sklearn.feature_selection.SelectKBest.html#sklearn.feature_selection.SelectKBest\n",
    "\n",
    "from sklearn.feature_selection import SelectKBest,chi2,f_classif,mutual_info_classif\n",
    "\n",
    "# Some options: f_classif (ANOVA), chi2, mutual_info_classif\n",
    "# find k-best scored 10 features\n",
    "select_feature1 = SelectKBest(f_classif, k=15).fit(X_train, y_train)\n",
    "print(X_train.columns[select_feature1.get_support()])\n",
    "select_feature2 = SelectKBest(chi2, k=15).fit(X_train.abs(), y_train)\n",
    "print(X_train.columns[select_feature2.get_support()])\n",
    "#select_feature3 = SelectKBest(mutual_info_classif, k=10).fit(X_train, y_train)\n",
    "#print(X_train.columns[select_feature3.get_support()])\n",
    "\n",
    "# Transform data\n",
    "X_train_UniF = select_feature1.transform(X_train)\n",
    "X_test_UniF = select_feature1.transform(X_test)\n",
    "X_train_Chi2 = select_feature2.transform(X_train)\n",
    "X_test_Chi2 = select_feature2.transform(X_test)"
   ]
  },
  {
   "cell_type": "code",
   "execution_count": 15,
   "metadata": {
    "collapsed": false
   },
   "outputs": [
    {
     "name": "stdout",
     "output_type": "stream",
     "text": [
      "Chosen best 15 features by Recursive Feature Elimination: Index(['Time', 'V4', 'V6', 'V7', 'V8', 'V9', 'V10', 'V11', 'V12', 'V14', 'V16',\n",
      "       'V17', 'V20', 'V21', 'Amount'],\n",
      "      dtype='object')\n",
      "Computation time: 0 seconds\n"
     ]
    }
   ],
   "source": [
    "# 3) Recursive feature elimination (RFE) using Random Forest¶ (could be any other...)\n",
    "# - http://scikit-learn.org/stable/modules/generated/sklearn.feature_selection.RFE.html \n",
    "# - Basically, it uses one of the classification methods (random forest in our example), \n",
    "# assign weights to each of features. Whose absolute weights are the smallest are pruned \n",
    "# from the current set features. That procedure is recursively repeated on the pruned set until \n",
    "# the desired number of features\n",
    "tic = time.time()\n",
    "\n",
    "from sklearn.feature_selection import RFE\n",
    "from sklearn.ensemble import RandomForestClassifier # Random forest classifier\n",
    "\n",
    "# Here, we will apply RFE on the undersampled data so that it will not be affected by the data imbalance\n",
    "\n",
    "# Create the RFE object and rank each pixel\n",
    "clf_rf_3 = RandomForestClassifier(n_estimators=10)      \n",
    "rfe = RFE(estimator=clf_rf_3, n_features_to_select=15, step=1)\n",
    "# Normalize\n",
    "XX_train = X_undersampled.copy()\n",
    "yy_train = y_undersampled.copy()\n",
    "cols_to_norm = ['Time','Amount']\n",
    "#XX_train[cols_to_norm] = XX_train[cols_to_norm].apply(lambda x: (x - x.mean()) / x.std())\n",
    "XX_train[cols_to_norm] = XX_train[cols_to_norm].apply(lambda x: (x - x.min()) / (x.max() - x.min()))\n",
    "\n",
    "rfe = rfe.fit(XX_train, yy_train)\n",
    "print('Chosen best 15 features by Recursive Feature Elimination:',XX_train.columns[rfe.support_])\n",
    "\n",
    "X_train_RFE = rfe.transform(X_train)\n",
    "X_test_RFE = rfe.transform(X_test)\n",
    "\n",
    "toc = time.time()\n",
    "print(\"Computation time: %d seconds\"%(toc-tic))"
   ]
  },
  {
   "cell_type": "code",
   "execution_count": 16,
   "metadata": {
    "collapsed": false
   },
   "outputs": [
    {
     "data": {
      "text/plain": [
       "(696, 30)"
      ]
     },
     "execution_count": 16,
     "metadata": {},
     "output_type": "execute_result"
    }
   ],
   "source": [
    "# 4) t-SNE (good for visualization)\n",
    "# - t-Distributed Stochastic Neighbor Embedding (t-SNE) is a (prize-winning) technique for dimensionality reduction\n",
    "# that is particularly well suited for the visualization of high-dimensional datasets. The technique can be \n",
    "# implemented via Barnes-Hut approximations, allowing it to be applied on large real-world datasets. \n",
    "# - t-distributed Stochastic Neighbor Embedding. t-SNE [1] is a tool to visualize high-dimensional data. \n",
    "# It converts similarities between data points to joint probabilities and tries to minimize the Kullback-Leibler \n",
    "# divergence between the joint probabilities of the low-dimensional embedding and the high-dimensional data.\n",
    "# t-SNE has a cost function that is not convex, i.e. with different initializations we can get different results.\n",
    "# - It is highly recommended to use another dimensionality reduction method (e.g. PCA for dense data or \n",
    "# TruncatedSVD for sparse data) to reduce the number of dimensions to a reasonable amount (e.g. 50) \n",
    "# if the number of features is very high. This will suppress some noise and speed up the computation of \n",
    "# pairwise distances between samples. For more tips see Laurens van der Maaten’s FAQ [2].\n",
    "# - Ref: - https://lvdmaaten.github.io/tsne/\n",
    "#        - http://scikit-learn.org/stable/modules/generated/sklearn.manifold.TSNE.html\n",
    "\n",
    "from sklearn.preprocessing import StandardScaler\n",
    "from sklearn.manifold import TSNE\n",
    "import time\n",
    "import pandas as pd\n",
    "import numpy as np\n",
    "\n",
    "# Select the dataset to transform\n",
    "XX_train = X_undersampled.copy()\n",
    "yy_train = y_undersampled.copy()\n",
    "\n",
    "#Scale features to improve the training ability of TSNE.\n",
    "standard_scaler = StandardScaler()\n",
    "XX_train_std = standard_scaler.fit_transform(XX_train)\n",
    "XX_train_std.shape"
   ]
  },
  {
   "cell_type": "code",
   "execution_count": 17,
   "metadata": {
    "collapsed": false
   },
   "outputs": [
    {
     "name": "stdout",
     "output_type": "stream",
     "text": [
      "Computation time: 10 seconds\n"
     ]
    }
   ],
   "source": [
    "tic = time.time()\n",
    "tsne = TSNE(n_components=2, random_state=101)\n",
    "XX_train_2d = tsne.fit_transform(XX_train_std)\n",
    "toc = time.time()\n",
    "print(\"Computation time: %d seconds\"%(toc-tic))"
   ]
  },
  {
   "cell_type": "code",
   "execution_count": 22,
   "metadata": {
    "collapsed": false
   },
   "outputs": [
    {
     "data": {
      "image/png": "[encoded data removed]",
      "text/plain": [
       "<matplotlib.figure.Figure at 0x7f6477ad58d0>"
      ]
     },
     "metadata": {},
     "output_type": "display_data"
    }
   ],
   "source": [
    "#Build the scatter plot with the two types of transactions.\n",
    "color_map = {0:'red', 1:'blue'}\n",
    "#plt.figure()\n",
    "#yy = yy_train.Class.values\n",
    "yy = yy_train.values\n",
    "allX = XX_train_2d[:,0]\n",
    "allY = XX_train_2d[:,1]\n",
    "plt.scatter(x = allX[yy==0], y = allY[yy==0], c = 'blue', label = 'Normal')\n",
    "plt.scatter(x = allX[yy==1], y = allY[yy==1], c = 'red', label = 'Fraud')\n",
    "plt.xlabel('X in t-SNE')\n",
    "plt.ylabel('Y in t-SNE')\n",
    "plt.legend(loc='upper left')\n",
    "plt.title('t-SNE visualization of XX_train data')\n",
    "plt.show()"
   ]
  },
  {
   "cell_type": "markdown",
   "metadata": {},
   "source": [
    "###  3) Stratification approach: GNG + COM\n",
    "\n",
    "Probably not relevant for this data which is not that small..."
   ]
  },
  {
   "cell_type": "markdown",
   "metadata": {},
   "source": [
    "# Boosting methods\n",
    "- XGBoost [x]\n",
    "- LightGBM\n",
    "- CatBoost"
   ]
  },
  {
   "cell_type": "code",
   "execution_count": 23,
   "metadata": {
    "collapsed": true
   },
   "outputs": [],
   "source": [
    "from sklearn.metrics import confusion_matrix\n",
    "from sklearn.model_selection import GridSearchCV\n",
    "\n",
    "# Useful functions\n",
    "def get_auc(m, Xtrain,ytrain, Xtest,ytest): \n",
    "    return (metrics.roc_auc_score(ytrain,m.predict_proba(Xtrain)[:,1]),\n",
    "            metrics.roc_auc_score(ytest,m.predict_proba(Xtest)[:,1]))\n",
    "\n",
    "def get_metrics(model,XX,yy):    \n",
    "    cnf_matrix = confusion_matrix(yy,model.predict(XX))\n",
    "    # Get scores\n",
    "    res = ji_get_metrics(cnf_matrix)\n",
    "    print(\" Precision: %1.2f\"%(res.Precision))\n",
    "    print(\" Recall(TPR): %1.2f\"%(res.Recall))\n",
    "    print(\" BAcc=(TPR+TNR)/2: %1.2f\"%(res.BAcc))\n",
    "    \n",
    "    return res"
   ]
  },
  {
   "cell_type": "markdown",
   "metadata": {},
   "source": [
    "# XGBoost"
   ]
  },
  {
   "cell_type": "code",
   "execution_count": 24,
   "metadata": {
    "collapsed": true
   },
   "outputs": [],
   "source": [
    "# XGBoost\n",
    "# Install with conda:\n",
    "# - Check file to instal: anaconda search -t conda xgboost\n",
    "# - conda install -c mndrake xgboost (IF mndrake is listed...)\n",
    "\n",
    "import xgboost as xgb\n",
    "from sklearn import metrics\n",
    "\n",
    "# Wraper function: Tune + Train + Test\n",
    "def run_XGBoost(XX_train,yy_train,XX_test,yy_test,explabel,flag):\n",
    "    tic = time.time()\n",
    "\n",
    "    # 1) Parameter Tuning    \n",
    "    model = xgb.XGBClassifier()\n",
    "    if flag.set2use==0:\n",
    "        param_dist = {\"max_depth\": [10,30,50], # 27 combinations\n",
    "                  \"min_child_weight\" : [1,3,6],\n",
    "                  \"n_estimators\": [200],\n",
    "                  \"learning_rate\": [0.01,0.05, 0.1]}\n",
    "    else: # 125 combinations\n",
    "        param_dist = {\"max_depth\": [10,30,50,70,90],\n",
    "                  \"min_child_weight\" : [1,3,6,9,12],\n",
    "                  \"n_estimators\": [200],\n",
    "                  \"learning_rate\": [0.01,0.05, 0.1,0.15,0.2],}\n",
    "\n",
    "    if flag.pars2use:\n",
    "        best = flag.pars2use\n",
    "        print('Using parameters:', best)\n",
    "    else:\n",
    "        # Grid search\n",
    "        grid_search = GridSearchCV(model, param_grid=param_dist, cv = 3,verbose=1, n_jobs=-1)\n",
    "        grid_search.fit(XX_train, yy_train)\n",
    "        toc = time.time()\n",
    "        print(\"Computation time (parameter tunning): %d seconds...\"%(toc-tic))   \n",
    "        best = grid_search.best_params_\n",
    "        print('Best parameters:', best)\n",
    "    \n",
    "    # 3) Run with best parameters\n",
    "    tic = time.time()\n",
    "    model = xgb.XGBClassifier(max_depth=best['max_depth'], min_child_weight=best['min_child_weight'], \\\n",
    "                              n_estimators=best['n_estimators'],n_jobs=-1 , verbose=1,learning_rate=best['learning_rate'])\n",
    "    model.fit(XX_train,yy_train)\n",
    "\n",
    "    # Evaluate\n",
    "    print('********** SUMMARY: XGBoost (%s) **************'%(explabel))\n",
    "    print('- Parameters used: ',best)\n",
    "    print('- AUC(Train|Test): ',get_auc(model,XX_train,yy_train,XX_test,yy_test))\n",
    "    print('- Metrics: Train data (n=%d) **'%len(yy_train))\n",
    "    res_train = get_metrics(model,XX_train,yy_train)\n",
    "    print('- Metrics: Test data (n=%d) **'%len(yy_test))\n",
    "    res_test = get_metrics(model,XX_test,yy_test)\n",
    "\n",
    "    toc = time.time()\n",
    "    print(\"Computation time (Total): %d seconds\"%(toc-tic))\n",
    "    \n",
    "    return best"
   ]
  },
  {
   "cell_type": "code",
   "execution_count": 219,
   "metadata": {
    "collapsed": false
   },
   "outputs": [
    {
     "name": "stdout",
     "output_type": "stream",
     "text": [
      "Fitting 3 folds for each of 125 candidates, totalling 375 fits\n"
     ]
    },
    {
     "name": "stderr",
     "output_type": "stream",
     "text": [
      "[Parallel(n_jobs=-1)]: Done  18 tasks      | elapsed:    0.8s\n",
      "[Parallel(n_jobs=-1)]: Done 168 tasks      | elapsed:    3.2s\n",
      "[Parallel(n_jobs=-1)]: Done 375 out of 375 | elapsed:    5.1s finished\n"
     ]
    },
    {
     "name": "stdout",
     "output_type": "stream",
     "text": [
      "Computation time (parameter tunning): 5 seconds...\n",
      "Best parameters: {'learning_rate': 0.05, 'max_depth': 10, 'min_child_weight': 6, 'n_estimators': 200}\n",
      "********** SUMMARY: XGBoost (Exp1-Undersampled) **************\n",
      "- Parameters used:  {'learning_rate': 0.05, 'max_depth': 10, 'min_child_weight': 6, 'n_estimators': 200}\n",
      "- AUC(Train|Test):  (0.99980182322631783, 0.98394699169327249)\n",
      "- Metrics: Train data (n=696) **\n",
      " TN=348, FP=0\n",
      " FN=6, TP=342\n",
      " Precision: 1.00\n",
      " Recall(TPR): 0.98\n",
      " BAcc=(TPR+TNR)/2: 0.99\n",
      "- Metrics: Test data (n=85443) **\n",
      " TN=82434, FP=2865\n",
      " FN=15, TP=129\n",
      " Precision: 0.04\n",
      " Recall(TPR): 0.90\n",
      " BAcc=(TPR+TNR)/2: 0.93\n",
      "Computation time (Total): 0 seconds\n"
     ]
    }
   ],
   "source": [
    "## EXPERIMENT 1 - Train data: undersampled, Test data: all\n",
    "\n",
    "# 1) Choose dataset\n",
    "mylabel = 'Exp1-Undersampled'\n",
    "XX_train = X_undersampled.copy()\n",
    "yy_train = y_undersampled.copy()\n",
    "\n",
    "XX_test = X_test.copy()\n",
    "yy_test = y_test.copy()\n",
    "# 2) Run wrapper\n",
    "flag = matlab_like()\n",
    "flag.set2use = 1\n",
    "flag.pars2use = {}\n",
    "best1 = run_XGBoost(XX_train,yy_train,XX_test,yy_test,mylabel,flag)"
   ]
  },
  {
   "cell_type": "code",
   "execution_count": 220,
   "metadata": {
    "collapsed": false
   },
   "outputs": [
    {
     "name": "stdout",
     "output_type": "stream",
     "text": [
      "Fitting 3 folds for each of 125 candidates, totalling 375 fits\n"
     ]
    },
    {
     "name": "stderr",
     "output_type": "stream",
     "text": [
      "[Parallel(n_jobs=-1)]: Done  18 tasks      | elapsed:    0.8s\n",
      "[Parallel(n_jobs=-1)]: Done 168 tasks      | elapsed:    3.2s\n",
      "[Parallel(n_jobs=-1)]: Done 375 out of 375 | elapsed:    5.1s finished\n"
     ]
    },
    {
     "name": "stdout",
     "output_type": "stream",
     "text": [
      "Computation time (parameter tunning): 5 seconds...\n",
      "Best parameters: {'learning_rate': 0.05, 'max_depth': 10, 'min_child_weight': 6, 'n_estimators': 200}\n",
      "********** SUMMARY: XGBoost (Exp2-Undersampled (normalized)) **************\n",
      "- Parameters used:  {'learning_rate': 0.05, 'max_depth': 10, 'min_child_weight': 6, 'n_estimators': 200}\n",
      "- AUC(Train|Test):  (0.99980182322631783, 0.94721838767160227)\n",
      "- Metrics: Train data (n=696) **\n",
      " TN=348, FP=0\n",
      " FN=6, TP=342\n",
      " Precision: 1.00\n",
      " Recall(TPR): 0.98\n",
      " BAcc=(TPR+TNR)/2: 0.99\n",
      "- Metrics: Test data (n=85443) **\n",
      " TN=9371, FP=75928\n",
      " FN=1, TP=143\n",
      " Precision: 0.00\n",
      " Recall(TPR): 0.99\n",
      " BAcc=(TPR+TNR)/2: 0.55\n",
      "Computation time (Total): 0 seconds\n"
     ]
    }
   ],
   "source": [
    "## EXPERIMENT 2 - Train data: undersampled, Test data: all (normalized data)\n",
    "\n",
    "# 1) Choose dataset\n",
    "mylabel = 'Exp2-Undersampled (normalized)'\n",
    "XX_train = ji_normalize(X_undersampled,'standardize',[])\n",
    "yy_train = y_undersampled.copy()\n",
    "\n",
    "XX_test = ji_normalize(X_test,'standardize',[])\n",
    "yy_test = y_test.copy()\n",
    "# 2) Run wrapper\n",
    "flag = matlab_like()\n",
    "flag.set2use = 1\n",
    "flag.pars2use = {}\n",
    "best2 = run_XGBoost(XX_train,yy_train,XX_test,yy_test,mylabel,flag)"
   ]
  },
  {
   "cell_type": "code",
   "execution_count": 224,
   "metadata": {
    "collapsed": false
   },
   "outputs": [
    {
     "name": "stdout",
     "output_type": "stream",
     "text": [
      "Using parameters: {'learning_rate': 0.05, 'max_depth': 10, 'min_child_weight': 6, 'n_estimators': 200}\n",
      "********** SUMMARY: XGBoost (Exp3-SMOTE (best parameters:Exp1)) **************\n",
      "- Parameters used:  {'learning_rate': 0.05, 'max_depth': 10, 'min_child_weight': 6, 'n_estimators': 200}\n",
      "- AUC(Train|Test):  (0.99999814343887916, 0.98250410972643953)\n",
      "- Metrics: Train data (n=398032) **\n",
      " TN=198986, FP=30\n",
      " FN=0, TP=199016\n",
      " Precision: 1.00\n",
      " Recall(TPR): 1.00\n",
      " BAcc=(TPR+TNR)/2: 1.00\n",
      "- Metrics: Test data (n=85443) **\n",
      " TN=85266, FP=33\n",
      " FN=20, TP=124\n",
      " Precision: 0.79\n",
      " Recall(TPR): 0.86\n",
      " BAcc=(TPR+TNR)/2: 0.93\n",
      "Computation time (Total): 87 seconds\n"
     ]
    },
    {
     "data": {
      "text/plain": [
       "{'learning_rate': 0.05,\n",
       " 'max_depth': 10,\n",
       " 'min_child_weight': 6,\n",
       " 'n_estimators': 200}"
      ]
     },
     "execution_count": 224,
     "metadata": {},
     "output_type": "execute_result"
    }
   ],
   "source": [
    "## EXPERIMENT 3 - Train data: SMOTE, Test data: all (best parameters from Exp1)\n",
    "\n",
    "# 1) Choose dataset\n",
    "mylabel = 'Exp3-SMOTE (best parameters:Exp1)'\n",
    "XX_train = X_train_SMOTE.copy()\n",
    "yy_train = y_train_SMOTE.copy()\n",
    "XX_test = X_test.copy()\n",
    "yy_test = y_test.copy()\n",
    "# 2) Run wrapper\n",
    "flag = matlab_like()\n",
    "flag.set2use = 0 # smaller set\n",
    "flag.pars2use = best1 # will not run GridSearch if selected\n",
    "run_XGBoost(XX_train,yy_train,XX_test,yy_test,mylabel,flag)"
   ]
  },
  {
   "cell_type": "code",
   "execution_count": 226,
   "metadata": {
    "collapsed": false
   },
   "outputs": [
    {
     "name": "stdout",
     "output_type": "stream",
     "text": [
      "Using parameters: {'learning_rate': 0.05, 'max_depth': 10, 'min_child_weight': 6, 'n_estimators': 200}\n",
      "********** SUMMARY: XGBoost (Exp4-SMOTE2 (best parameters:Exp1)) **************\n",
      "- Parameters used:  {'learning_rate': 0.05, 'max_depth': 10, 'min_child_weight': 6, 'n_estimators': 200}\n",
      "- AUC(Train|Test):  (0.99999833710233976, 0.98295973738131626)\n",
      "- Metrics: Train data (n=398032) **\n",
      " TN=198996, FP=20\n",
      " FN=35, TP=198981\n",
      " Precision: 1.00\n",
      " Recall(TPR): 1.00\n",
      " BAcc=(TPR+TNR)/2: 1.00\n",
      "- Metrics: Test data (n=85443) **\n",
      " TN=85275, FP=24\n",
      " FN=23, TP=121\n",
      " Precision: 0.83\n",
      " Recall(TPR): 0.84\n",
      " BAcc=(TPR+TNR)/2: 0.92\n",
      "Computation time (Total): 76 seconds\n"
     ]
    }
   ],
   "source": [
    "## EXPERIMENT 4 - Train data: SMOTE2, Test data: all (best parameters from Exp1)\n",
    "\n",
    "# 1) Choose dataset\n",
    "mylabel = 'Exp4-SMOTE2 (best parameters:Exp1)'\n",
    "XX_train = X_train_SMOTE2.copy()\n",
    "yy_train = y_train_SMOTE2.copy()\n",
    "XX_test = X_test.copy()\n",
    "yy_test = y_test.copy()\n",
    "# 2) Run wrapper\n",
    "flag = matlab_like()\n",
    "flag.set2use = 0 # smaller set\n",
    "flag.pars2use = best1 # will not run GridSearch if selected\n",
    "tmp = run_XGBoost(XX_train,yy_train,XX_test,yy_test,mylabel,flag)"
   ]
  },
  {
   "cell_type": "code",
   "execution_count": 235,
   "metadata": {
    "collapsed": false
   },
   "outputs": [
    {
     "name": "stdout",
     "output_type": "stream",
     "text": [
      "Fitting 3 folds for each of 125 candidates, totalling 375 fits\n"
     ]
    },
    {
     "name": "stderr",
     "output_type": "stream",
     "text": [
      "[Parallel(n_jobs=-1)]: Done  18 tasks      | elapsed:    0.5s\n",
      "[Parallel(n_jobs=-1)]: Done 304 tasks      | elapsed:    2.8s\n",
      "[Parallel(n_jobs=-1)]: Done 344 out of 375 | elapsed:    3.0s remaining:    0.3s\n",
      "[Parallel(n_jobs=-1)]: Done 375 out of 375 | elapsed:    3.2s finished\n"
     ]
    },
    {
     "name": "stdout",
     "output_type": "stream",
     "text": [
      "Computation time (parameter tunning): 3 seconds...\n",
      "Best parameters: {'learning_rate': 0.01, 'max_depth': 10, 'min_child_weight': 6, 'n_estimators': 200}\n",
      "********** SUMMARY: XGBoost (Exp5-Undersampled) **************\n",
      "- Parameters used:  {'learning_rate': 0.01, 'max_depth': 10, 'min_child_weight': 6, 'n_estimators': 200}\n",
      "- AUC(Train|Test):  (0.99272526093275193, 0.9776254378389222)\n",
      "- Metrics: Train data (n=696) **\n",
      " TN=339, FP=9\n",
      " FN=26, TP=322\n",
      " Precision: 0.97\n",
      " Recall(TPR): 0.93\n",
      " BAcc=(TPR+TNR)/2: 0.95\n",
      "- Metrics: Test data (n=85443) **\n",
      " TN=82646, FP=2653\n",
      " FN=17, TP=127\n",
      " Precision: 0.05\n",
      " Recall(TPR): 0.88\n",
      " BAcc=(TPR+TNR)/2: 0.93\n",
      "Computation time (Total): 0 seconds\n",
      "Using parameters: {'learning_rate': 0.01, 'max_depth': 10, 'min_child_weight': 6, 'n_estimators': 200}\n",
      "********** SUMMARY: XGBoost (Exp5-SMOTE (best parameters from Undersampled)) **************\n",
      "- Parameters used:  {'learning_rate': 0.01, 'max_depth': 10, 'min_child_weight': 6, 'n_estimators': 200}\n",
      "- AUC(Train|Test):  (0.99986035084522029, 0.97706055398591363)\n",
      "- Metrics: Train data (n=398032) **\n",
      " TN=198679, FP=337\n",
      " FN=687, TP=198329\n",
      " Precision: 1.00\n",
      " Recall(TPR): 1.00\n",
      " BAcc=(TPR+TNR)/2: 1.00\n",
      "- Metrics: Test data (n=85443) **\n",
      " TN=85094, FP=205\n",
      " FN=21, TP=123\n",
      " Precision: 0.38\n",
      " Recall(TPR): 0.85\n",
      " BAcc=(TPR+TNR)/2: 0.93\n",
      "Computation time (Total): 65 seconds\n"
     ]
    }
   ],
   "source": [
    "## EXPERIMENT 5 - Train data: SMOTE + Selected Feats, Test data: all (best parameters from Undersampled data)\n",
    "\n",
    "# 1) Choose dataset\n",
    "mylabel = 'Exp5-SMOTE (best parameters from Undersampled)'\n",
    "iselected = X_train.columns[select_feature1.get_support()] # Univariate ANOVA\n",
    "XX_train = X_train_SMOTE[iselected].copy()\n",
    "yy_train = y_train_SMOTE.copy()\n",
    "XX_test = X_test[iselected].copy()\n",
    "yy_test = y_test.copy()\n",
    "# 2) Get best parameters from Undersampled data\n",
    "flag = matlab_like()\n",
    "flag.set2use = 1 # smaller set\n",
    "flag.pars2use = {} # will not run GridSearch if selected\n",
    "best5 = run_XGBoost(X_undersampled[iselected],y_undersampled,XX_test,yy_test,'Exp5-Undersampled',flag)\n",
    "# 3) Run on whole data with the best parameters from Undersampled data\n",
    "flag = matlab_like()\n",
    "flag.set2use = 0 # smaller set\n",
    "flag.pars2use = best5 # will not run GridSearch if selected\n",
    "best5 = run_XGBoost(XX_train,yy_train,XX_test,yy_test,mylabel,flag)\n"
   ]
  },
  {
   "cell_type": "code",
   "execution_count": 236,
   "metadata": {
    "collapsed": false
   },
   "outputs": [
    {
     "name": "stdout",
     "output_type": "stream",
     "text": [
      "Fitting 3 folds for each of 125 candidates, totalling 375 fits\n"
     ]
    },
    {
     "name": "stderr",
     "output_type": "stream",
     "text": [
      "[Parallel(n_jobs=-1)]: Done  18 tasks      | elapsed:    0.5s\n",
      "[Parallel(n_jobs=-1)]: Done 168 tasks      | elapsed:    2.0s\n",
      "[Parallel(n_jobs=-1)]: Done 375 out of 375 | elapsed:    3.2s finished\n"
     ]
    },
    {
     "name": "stdout",
     "output_type": "stream",
     "text": [
      "Computation time (parameter tunning): 3 seconds...\n",
      "Best parameters: {'learning_rate': 0.01, 'max_depth': 10, 'min_child_weight': 6, 'n_estimators': 200}\n",
      "********** SUMMARY: XGBoost (Exp6-Undersampled) **************\n",
      "- Parameters used:  {'learning_rate': 0.01, 'max_depth': 10, 'min_child_weight': 6, 'n_estimators': 200}\n",
      "- AUC(Train|Test):  (0.99272526093275193, 0.9776254378389222)\n",
      "- Metrics: Train data (n=696) **\n",
      " TN=339, FP=9\n",
      " FN=26, TP=322\n",
      " Precision: 0.97\n",
      " Recall(TPR): 0.93\n",
      " BAcc=(TPR+TNR)/2: 0.95\n",
      "- Metrics: Test data (n=85443) **\n",
      " TN=82646, FP=2653\n",
      " FN=17, TP=127\n",
      " Precision: 0.05\n",
      " Recall(TPR): 0.88\n",
      " BAcc=(TPR+TNR)/2: 0.93\n",
      "Computation time (Total): 0 seconds\n",
      "Using parameters: {'learning_rate': 0.01, 'max_depth': 10, 'min_child_weight': 6, 'n_estimators': 200}\n",
      "********** SUMMARY: XGBoost (Exp6-SMOTE2 (best parameters from Undersampled)) **************\n",
      "- Parameters used:  {'learning_rate': 0.01, 'max_depth': 10, 'min_child_weight': 6, 'n_estimators': 200}\n",
      "- AUC(Train|Test):  (0.99986703870436522, 0.95360087912975411)\n",
      "- Metrics: Train data (n=398032) **\n",
      " TN=198901, FP=115\n",
      " FN=92, TP=198924\n",
      " Precision: 1.00\n",
      " Recall(TPR): 1.00\n",
      " BAcc=(TPR+TNR)/2: 1.00\n",
      "- Metrics: Test data (n=85443) **\n",
      " TN=85223, FP=76\n",
      " FN=25, TP=119\n",
      " Precision: 0.61\n",
      " Recall(TPR): 0.83\n",
      " BAcc=(TPR+TNR)/2: 0.91\n",
      "Computation time (Total): 60 seconds\n"
     ]
    }
   ],
   "source": [
    "## EXPERIMENT 6 - Train data: SMOTE2 + Selected Feats, Test data: all (best parameters from Undersampled data)\n",
    "\n",
    "# 1) Choose dataset\n",
    "mylabel = 'Exp6-SMOTE2 (best parameters from Undersampled)'\n",
    "iselected = X_train.columns[select_feature1.get_support()] # Univariate ANOVA\n",
    "XX_train = X_train_SMOTE2[iselected].copy()\n",
    "yy_train = y_train_SMOTE2.copy()\n",
    "XX_test = X_test[iselected].copy()\n",
    "yy_test = y_test.copy()\n",
    "# 2) Get best parameters from Undersampled data\n",
    "flag = matlab_like()\n",
    "flag.set2use = 1 # smaller set\n",
    "flag.pars2use = {} # will not run GridSearch if selected\n",
    "best6 = run_XGBoost(X_undersampled[iselected],y_undersampled,XX_test,yy_test,'Exp6-Undersampled',flag)\n",
    "# 3) Run on whole data with the best parameters from Undersampled data\n",
    "flag = matlab_like()\n",
    "flag.set2use = 0 # smaller set\n",
    "flag.pars2use = best6 # will not run GridSearch if selected\n",
    "tmp = run_XGBoost(XX_train,yy_train,XX_test,yy_test,mylabel,flag)"
   ]
  },
  {
   "cell_type": "code",
   "execution_count": 238,
   "metadata": {
    "collapsed": false
   },
   "outputs": [
    {
     "name": "stdout",
     "output_type": "stream",
     "text": [
      "Selected feats:  Index(['Time', 'V1', 'V2', 'V3', 'V4', 'V5', 'V7', 'V8', 'V10', 'V11', 'V12',\n",
      "       'V14', 'V16', 'V17', 'Amount'],\n",
      "      dtype='object')\n",
      "Fitting 3 folds for each of 125 candidates, totalling 375 fits\n"
     ]
    },
    {
     "name": "stderr",
     "output_type": "stream",
     "text": [
      "[Parallel(n_jobs=-1)]: Done  18 tasks      | elapsed:    0.5s\n",
      "[Parallel(n_jobs=-1)]: Done 304 tasks      | elapsed:    2.8s\n",
      "[Parallel(n_jobs=-1)]: Done 344 out of 375 | elapsed:    3.0s remaining:    0.3s\n",
      "[Parallel(n_jobs=-1)]: Done 375 out of 375 | elapsed:    3.1s finished\n"
     ]
    },
    {
     "name": "stdout",
     "output_type": "stream",
     "text": [
      "Computation time (parameter tunning): 4 seconds...\n",
      "Best parameters: {'learning_rate': 0.01, 'max_depth': 10, 'min_child_weight': 1, 'n_estimators': 200}\n",
      "********** SUMMARY: XGBoost (Exp7-Undersampled) **************\n",
      "- Parameters used:  {'learning_rate': 0.01, 'max_depth': 10, 'min_child_weight': 1, 'n_estimators': 200}\n",
      "- AUC(Train|Test):  (0.99997522790328974, 0.97433619125403315)\n",
      "- Metrics: Train data (n=696) **\n",
      " TN=348, FP=0\n",
      " FN=4, TP=344\n",
      " Precision: 1.00\n",
      " Recall(TPR): 0.99\n",
      " BAcc=(TPR+TNR)/2: 0.99\n",
      "- Metrics: Test data (n=85443) **\n",
      " TN=80522, FP=4777\n",
      " FN=13, TP=131\n",
      " Precision: 0.03\n",
      " Recall(TPR): 0.91\n",
      " BAcc=(TPR+TNR)/2: 0.93\n",
      "Computation time (Total): 0 seconds\n",
      "Using parameters: {'learning_rate': 0.01, 'max_depth': 10, 'min_child_weight': 1, 'n_estimators': 200}\n",
      "********** SUMMARY: XGBoost (Exp7-SMOTE2 (best parameters from Undersampled)) **************\n",
      "- Parameters used:  {'learning_rate': 0.01, 'max_depth': 10, 'min_child_weight': 1, 'n_estimators': 200}\n",
      "- AUC(Train|Test):  (0.99986347039103807, 0.96300350661919953)\n",
      "- Metrics: Train data (n=398032) **\n",
      " TN=198934, FP=82\n",
      " FN=47, TP=198969\n",
      " Precision: 1.00\n",
      " Recall(TPR): 1.00\n",
      " BAcc=(TPR+TNR)/2: 1.00\n",
      "- Metrics: Test data (n=85443) **\n",
      " TN=85238, FP=61\n",
      " FN=26, TP=118\n",
      " Precision: 0.66\n",
      " Recall(TPR): 0.82\n",
      " BAcc=(TPR+TNR)/2: 0.91\n",
      "Computation time (Total): 57 seconds\n"
     ]
    }
   ],
   "source": [
    "## EXPERIMENT 7 - Train data: SMOTE2 + Selected Feats (Chi2), Test data: all (best parameters from Undersampled data)\n",
    "\n",
    "# 1) Choose dataset\n",
    "mylabel = 'Exp7-SMOTE2 (best parameters from Undersampled)'\n",
    "iselected = X_train.columns[select_feature2.get_support()] # Chi2\n",
    "print('Selected feats: ',iselected)\n",
    "XX_train = X_train_SMOTE2[iselected].copy()\n",
    "yy_train = y_train_SMOTE2.copy()\n",
    "XX_test = X_test[iselected].copy()\n",
    "yy_test = y_test.copy()\n",
    "# 2) Get best parameters from Undersampled data\n",
    "flag = matlab_like()\n",
    "flag.set2use = 1 # smaller set\n",
    "flag.pars2use = {} # will not run GridSearch if selected\n",
    "tmp = run_XGBoost(X_undersampled[iselected],y_undersampled,XX_test,yy_test,'Exp7-Undersampled',flag)\n",
    "# 3) Run on whole data with the best parameters from Undersampled data\n",
    "flag = matlab_like()\n",
    "flag.set2use = 0 # smaller set\n",
    "flag.pars2use = tmp # will not run GridSearch if selected\n",
    "best7 = run_XGBoost(XX_train,yy_train,XX_test,yy_test,mylabel,flag)"
   ]
  },
  {
   "cell_type": "code",
   "execution_count": null,
   "metadata": {
    "collapsed": true
   },
   "outputs": [],
   "source": []
  }
 ],
 "metadata": {
  "kernelspec": {
   "display_name": "Python 3",
   "language": "python",
   "name": "python3"
  },
  "language_info": {
   "codemirror_mode": {
    "name": "ipython",
    "version": 3
   },
   "file_extension": ".py",
   "mimetype": "text/x-python",
   "name": "python",
   "nbconvert_exporter": "python",
   "pygments_lexer": "ipython3",
   "version": "3.6.0"
  }
 },
 "nbformat": 4,
 "nbformat_minor": 2
}
